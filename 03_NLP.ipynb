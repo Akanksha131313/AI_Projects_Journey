{
  "nbformat": 4,
  "nbformat_minor": 0,
  "metadata": {
    "colab": {
      "provenance": [],
      "authorship_tag": "ABX9TyOqmSAdRLfpFXJbM1VjROcG",
      "include_colab_link": true
    },
    "kernelspec": {
      "name": "python3",
      "display_name": "Python 3"
    },
    "language_info": {
      "name": "python"
    }
  },
  "cells": [
    {
      "cell_type": "markdown",
      "metadata": {
        "id": "view-in-github",
        "colab_type": "text"
      },
      "source": [
        "<a href=\"https://colab.research.google.com/github/Akanksha131313/AI_Projects_Journey/blob/main/03_NLP.ipynb\" target=\"_parent\"><img src=\"https://colab.research.google.com/assets/colab-badge.svg\" alt=\"Open In Colab\"/></a>"
      ]
    },
    {
      "cell_type": "markdown",
      "source": [
        "##**Practical Implementation of NLP-**"
      ],
      "metadata": {
        "id": "LeyEn4G0nFXk"
      }
    },
    {
      "cell_type": "code",
      "execution_count": 52,
      "metadata": {
        "colab": {
          "base_uri": "https://localhost:8080/"
        },
        "id": "FzIFIolDmtuh",
        "outputId": "99f08ddf-963c-4e36-931a-332bd262fba5"
      },
      "outputs": [
        {
          "output_type": "stream",
          "name": "stdout",
          "text": [
            "Requirement already satisfied: Nltk in /usr/local/lib/python3.12/dist-packages (3.9.1)\n",
            "Requirement already satisfied: click in /usr/local/lib/python3.12/dist-packages (from Nltk) (8.3.0)\n",
            "Requirement already satisfied: joblib in /usr/local/lib/python3.12/dist-packages (from Nltk) (1.5.2)\n",
            "Requirement already satisfied: regex>=2021.8.3 in /usr/local/lib/python3.12/dist-packages (from Nltk) (2024.11.6)\n",
            "Requirement already satisfied: tqdm in /usr/local/lib/python3.12/dist-packages (from Nltk) (4.67.1)\n"
          ]
        }
      ],
      "source": [
        "!pip install Nltk"
      ]
    },
    {
      "cell_type": "code",
      "metadata": {
        "id": "f735c4a5"
      },
      "source": [
        "paragraph = \"\"\"\n",
        "Narendra Damodardas Modi[a] (born 17 September 1950) is an Indian politician who has served as the prime minister of India since 2014. Modi was the chief minister of Gujarat from 2001 to 2014 and is the member of parliament (MP) for Varanasi. He is a member of the Bharatiya Janata Party (BJP) and of the Rashtriya Swayamsevak Sangh (RSS), a right-wing Hindutva paramilitary volunteer organisation. He is the longest-serving prime minister outside the Indian National Congress.\n",
        "\n",
        "Modi was born and raised in Vadnagar, Bombay State (present-day Gujarat), where he completed his secondary education. He was introduced to the RSS at the age of eight, becoming a full-time worker for the organisation in Gujarat in 1971. The RSS assigned him to the BJP in 1985, and he rose through the party hierarchy, becoming general secretary in 1998.[b] In 2001, Modi was appointed chief minister of Gujarat and elected to the legislative assembly soon after. His administration is considered complicit in the 2002 Gujarat riots[c] and has been criticised for its management of the crisis. According to official records, a little over 1,000 people were killed, three-quarters of whom were Muslim; independent sources estimated 2,000 deaths, mostly Muslim.[4] A Special Investigation Team appointed by the Supreme Court of India in 2012 found no evidence to initiate prosecution proceedings against him.[d] While his policies as chief minister were credited for encouraging economic growth, his administration was criticised for failing to significantly improve health, poverty and education indices in the state.[e]\n",
        "In the 2014 Indian general election, Modi led the BJP to a parliamentary majority, the first for a party since 1984. His administration increased direct foreign investment and reduced spending on healthcare, education, and social-welfare programs. Modi began a high-profile sanitation campaign and weakened or abolished environmental and labour laws. His demonetisation of banknotes in 2016 and introduction of the Goods and Services Tax in 2017 sparked controversy. Modi's administration launched the 2019 Balakot airstrike against an alleged terrorist training camp in Pakistan; the airstrike failed,[5][6] but the action had nationalist appeal.[7] Modi's party won the 2019 general election which followed. In its second term, his administration revoked the special status of Jammu and Kashmir and introduced the Citizenship Amendment Act, prompting widespread protests and spurring the 2020 Delhi riots in which Muslims were brutalised and killed by Hindu mobs.[8][9][10] Three controversial farm laws led to sit-ins by farmers across the country, eventually causing their formal repeal. Modi oversaw India's response to the COVID-19 pandemic, during which, according to the World Health Organization, 4.7 million Indians died.[11][12] In the 2024 general election, Modi's party lost its majority in the lower house of Parliament and formed a government leading the National Democratic Alliance coalition. Following a terrorist attack in Indian-administered Jammu and Kashmir, Modi presided over the 2025 India–Pakistan conflict, which resulted in a ceasefire.\n",
        "In Ahmedabad, Modi renewed his acquaintance with Inamdar.[37][38][39] Modi's first-known political activity as an adult was in 1971 when he joined a Jana Sangh Satyagraha in Delhi led by Atal Bihari Vajpayee to enlist to fight in the Bangladesh Liberation War.[40][41] The Indira Gandhi-led central government prohibited open support for the Mukti Bahini; according to Modi, he was briefly held in Tihar Jail.[42][43][44] After the Indo-Pakistani War of 1971, Modi left his uncle's employment and became a full-time pracharak (campaigner) for the RSS,[45] working under Inamdar.[46] Shortly before the war, Modi took part in a non-violent protest in New Delhi against the Indian government, for which he was arrested; because of this arrest, Inamdar decided to mentor Modi.[46] According to Modi, he was part of a Satyagraha that led to a political war.[43][i]\n",
        "\n",
        "In 1978, Modi received a Bachelor of Arts (BA) degree in political science from the School of Open Learning[49] at the Delhi University.[30][50] In 1983, he received a Master of Arts (MA) degree in political science from Gujarat University, graduating with a first class[51][52] as an external distance learning student.[53] There is a controversy surrounding the authenticity of his BA and MA degrees.[54][55][j]\n",
        "\"\"\""
      ],
      "execution_count": 53,
      "outputs": []
    },
    {
      "cell_type": "code",
      "source": [
        "paragraph"
      ],
      "metadata": {
        "colab": {
          "base_uri": "https://localhost:8080/",
          "height": 123
        },
        "id": "0JqEyevMpxp8",
        "outputId": "e6042ba9-7eb8-488a-b37c-49527ad0843e"
      },
      "execution_count": 54,
      "outputs": [
        {
          "output_type": "execute_result",
          "data": {
            "text/plain": [
              "\"\\nNarendra Damodardas Modi[a] (born 17 September 1950) is an Indian politician who has served as the prime minister of India since 2014. Modi was the chief minister of Gujarat from 2001 to 2014 and is the member of parliament (MP) for Varanasi. He is a member of the Bharatiya Janata Party (BJP) and of the Rashtriya Swayamsevak Sangh (RSS), a right-wing Hindutva paramilitary volunteer organisation. He is the longest-serving prime minister outside the Indian National Congress.\\n\\nModi was born and raised in Vadnagar, Bombay State (present-day Gujarat), where he completed his secondary education. He was introduced to the RSS at the age of eight, becoming a full-time worker for the organisation in Gujarat in 1971. The RSS assigned him to the BJP in 1985, and he rose through the party hierarchy, becoming general secretary in 1998.[b] In 2001, Modi was appointed chief minister of Gujarat and elected to the legislative assembly soon after. His administration is considered complicit in the 2002 Gujarat riots[c] and has been criticised for its management of the crisis. According to official records, a little over 1,000 people were killed, three-quarters of whom were Muslim; independent sources estimated 2,000 deaths, mostly Muslim.[4] A Special Investigation Team appointed by the Supreme Court of India in 2012 found no evidence to initiate prosecution proceedings against him.[d] While his policies as chief minister were credited for encouraging economic growth, his administration was criticised for failing to significantly improve health, poverty and education indices in the state.[e]\\nIn the 2014 Indian general election, Modi led the BJP to a parliamentary majority, the first for a party since 1984. His administration increased direct foreign investment and reduced spending on healthcare, education, and social-welfare programs. Modi began a high-profile sanitation campaign and weakened or abolished environmental and labour laws. His demonetisation of banknotes in 2016 and introduction of the Goods and Services Tax in 2017 sparked controversy. Modi's administration launched the 2019 Balakot airstrike against an alleged terrorist training camp in Pakistan; the airstrike failed,[5][6] but the action had nationalist appeal.[7] Modi's party won the 2019 general election which followed. In its second term, his administration revoked the special status of Jammu and Kashmir and introduced the Citizenship Amendment Act, prompting widespread protests and spurring the 2020 Delhi riots in which Muslims were brutalised and killed by Hindu mobs.[8][9][10] Three controversial farm laws led to sit-ins by farmers across the country, eventually causing their formal repeal. Modi oversaw India's response to the COVID-19 pandemic, during which, according to the World Health Organization, 4.7 million Indians died.[11][12] In the 2024 general election, Modi's party lost its majority in the lower house of Parliament and formed a government leading the National Democratic Alliance coalition. Following a terrorist attack in Indian-administered Jammu and Kashmir, Modi presided over the 2025 India–Pakistan conflict, which resulted in a ceasefire.\\nIn Ahmedabad, Modi renewed his acquaintance with Inamdar.[37][38][39] Modi's first-known political activity as an adult was in 1971 when he joined a Jana Sangh Satyagraha in Delhi led by Atal Bihari Vajpayee to enlist to fight in the Bangladesh Liberation War.[40][41] The Indira Gandhi-led central government prohibited open support for the Mukti Bahini; according to Modi, he was briefly held in Tihar Jail.[42][43][44] After the Indo-Pakistani War of 1971, Modi left his uncle's employment and became a full-time pracharak (campaigner) for the RSS,[45] working under Inamdar.[46] Shortly before the war, Modi took part in a non-violent protest in New Delhi against the Indian government, for which he was arrested; because of this arrest, Inamdar decided to mentor Modi.[46] According to Modi, he was part of a Satyagraha that led to a political war.[43][i]\\n\\nIn 1978, Modi received a Bachelor of Arts (BA) degree in political science from the School of Open Learning[49] at the Delhi University.[30][50] In 1983, he received a Master of Arts (MA) degree in political science from Gujarat University, graduating with a first class[51][52] as an external distance learning student.[53] There is a controversy surrounding the authenticity of his BA and MA degrees.[54][55][j]\\n\""
            ],
            "application/vnd.google.colaboratory.intrinsic+json": {
              "type": "string"
            }
          },
          "metadata": {},
          "execution_count": 54
        }
      ]
    },
    {
      "cell_type": "code",
      "source": [
        "import nltk\n",
        "from nltk.stem import PorterStemmer\n",
        "from nltk.corpus import stopwords"
      ],
      "metadata": {
        "id": "mqVa8rYlwC9R"
      },
      "execution_count": 55,
      "outputs": []
    },
    {
      "cell_type": "markdown",
      "source": [
        "### **Tokenization -**"
      ],
      "metadata": {
        "id": "NogB3-vU4o9d"
      }
    },
    {
      "cell_type": "code",
      "source": [
        "#Tokenization : convert paragraph into sentences > then focus on 'words'\n",
        "nltk.download('punkt')\n",
        "nltk.download('punkt_tab') # Download the punkt_tab resource\n",
        "sentences=nltk.sent_tokenize(paragraph)"
      ],
      "metadata": {
        "colab": {
          "base_uri": "https://localhost:8080/"
        },
        "id": "U63MjHfowcao",
        "outputId": "52c9d8fd-9a71-4559-8b73-2ebead0ed83f"
      },
      "execution_count": 56,
      "outputs": [
        {
          "output_type": "stream",
          "name": "stderr",
          "text": [
            "[nltk_data] Downloading package punkt to /root/nltk_data...\n",
            "[nltk_data]   Package punkt is already up-to-date!\n",
            "[nltk_data] Downloading package punkt_tab to /root/nltk_data...\n",
            "[nltk_data]   Package punkt_tab is already up-to-date!\n"
          ]
        }
      ]
    },
    {
      "cell_type": "code",
      "source": [
        "print(sentences)"
      ],
      "metadata": {
        "colab": {
          "base_uri": "https://localhost:8080/"
        },
        "id": "o6HIX4HH1WQm",
        "outputId": "5ac316e7-4a50-4557-9e6d-e475469ca844"
      },
      "execution_count": 57,
      "outputs": [
        {
          "output_type": "stream",
          "name": "stdout",
          "text": [
            "['\\nNarendra Damodardas Modi[a] (born 17 September 1950) is an Indian politician who has served as the prime minister of India since 2014.', 'Modi was the chief minister of Gujarat from 2001 to 2014 and is the member of parliament (MP) for Varanasi.', 'He is a member of the Bharatiya Janata Party (BJP) and of the Rashtriya Swayamsevak Sangh (RSS), a right-wing Hindutva paramilitary volunteer organisation.', 'He is the longest-serving prime minister outside the Indian National Congress.', 'Modi was born and raised in Vadnagar, Bombay State (present-day Gujarat), where he completed his secondary education.', 'He was introduced to the RSS at the age of eight, becoming a full-time worker for the organisation in Gujarat in 1971.', 'The RSS assigned him to the BJP in 1985, and he rose through the party hierarchy, becoming general secretary in 1998.', '[b] In 2001, Modi was appointed chief minister of Gujarat and elected to the legislative assembly soon after.', 'His administration is considered complicit in the 2002 Gujarat riots[c] and has been criticised for its management of the crisis.', 'According to official records, a little over 1,000 people were killed, three-quarters of whom were Muslim; independent sources estimated 2,000 deaths, mostly Muslim.', '[4] A Special Investigation Team appointed by the Supreme Court of India in 2012 found no evidence to initiate prosecution proceedings against him.', '[d] While his policies as chief minister were credited for encouraging economic growth, his administration was criticised for failing to significantly improve health, poverty and education indices in the state.', '[e]\\nIn the 2014 Indian general election, Modi led the BJP to a parliamentary majority, the first for a party since 1984.', 'His administration increased direct foreign investment and reduced spending on healthcare, education, and social-welfare programs.', 'Modi began a high-profile sanitation campaign and weakened or abolished environmental and labour laws.', 'His demonetisation of banknotes in 2016 and introduction of the Goods and Services Tax in 2017 sparked controversy.', \"Modi's administration launched the 2019 Balakot airstrike against an alleged terrorist training camp in Pakistan; the airstrike failed,[5][6] but the action had nationalist appeal.\", \"[7] Modi's party won the 2019 general election which followed.\", 'In its second term, his administration revoked the special status of Jammu and Kashmir and introduced the Citizenship Amendment Act, prompting widespread protests and spurring the 2020 Delhi riots in which Muslims were brutalised and killed by Hindu mobs.', '[8][9][10] Three controversial farm laws led to sit-ins by farmers across the country, eventually causing their formal repeal.', \"Modi oversaw India's response to the COVID-19 pandemic, during which, according to the World Health Organization, 4.7 million Indians died.\", \"[11][12] In the 2024 general election, Modi's party lost its majority in the lower house of Parliament and formed a government leading the National Democratic Alliance coalition.\", 'Following a terrorist attack in Indian-administered Jammu and Kashmir, Modi presided over the 2025 India–Pakistan conflict, which resulted in a ceasefire.', 'In Ahmedabad, Modi renewed his acquaintance with Inamdar.', \"[37][38][39] Modi's first-known political activity as an adult was in 1971 when he joined a Jana Sangh Satyagraha in Delhi led by Atal Bihari Vajpayee to enlist to fight in the Bangladesh Liberation War.\", '[40][41] The Indira Gandhi-led central government prohibited open support for the Mukti Bahini; according to Modi, he was briefly held in Tihar Jail.', \"[42][43][44] After the Indo-Pakistani War of 1971, Modi left his uncle's employment and became a full-time pracharak (campaigner) for the RSS,[45] working under Inamdar.\", '[46] Shortly before the war, Modi took part in a non-violent protest in New Delhi against the Indian government, for which he was arrested; because of this arrest, Inamdar decided to mentor Modi.', '[46] According to Modi, he was part of a Satyagraha that led to a political war.', '[43][i]\\n\\nIn 1978, Modi received a Bachelor of Arts (BA) degree in political science from the School of Open Learning[49] at the Delhi University.', '[30][50] In 1983, he received a Master of Arts (MA) degree in political science from Gujarat University, graduating with a first class[51][52] as an external distance learning student.', '[53] There is a controversy surrounding the authenticity of his BA and MA degrees.', '[54][55][j]']\n"
          ]
        }
      ]
    },
    {
      "cell_type": "markdown",
      "source": [
        "### **Stemming -**"
      ],
      "metadata": {
        "id": "MycBNfUt4xXe"
      }
    },
    {
      "cell_type": "code",
      "source": [
        "stemmer=PorterStemmer()"
      ],
      "metadata": {
        "id": "50BXpnKq3WV7"
      },
      "execution_count": 58,
      "outputs": []
    },
    {
      "cell_type": "code",
      "source": [
        "stemmer.stem('going')"
      ],
      "metadata": {
        "colab": {
          "base_uri": "https://localhost:8080/",
          "height": 36
        },
        "id": "Qovx90d542pd",
        "outputId": "6caaf9c6-4377-43d8-9771-dd04da3250fc"
      },
      "execution_count": 59,
      "outputs": [
        {
          "output_type": "execute_result",
          "data": {
            "text/plain": [
              "'go'"
            ],
            "application/vnd.google.colaboratory.intrinsic+json": {
              "type": "string"
            }
          },
          "metadata": {},
          "execution_count": 59
        }
      ]
    },
    {
      "cell_type": "code",
      "source": [
        "stemmer.stem('history')"
      ],
      "metadata": {
        "colab": {
          "base_uri": "https://localhost:8080/",
          "height": 36
        },
        "id": "Pm1y85FW5HjQ",
        "outputId": "a9b2306d-91e3-4386-c0fc-54df3bf116cb"
      },
      "execution_count": 60,
      "outputs": [
        {
          "output_type": "execute_result",
          "data": {
            "text/plain": [
              "'histori'"
            ],
            "application/vnd.google.colaboratory.intrinsic+json": {
              "type": "string"
            }
          },
          "metadata": {},
          "execution_count": 60
        }
      ]
    },
    {
      "cell_type": "code",
      "source": [
        "stemmer.stem('finally')"
      ],
      "metadata": {
        "colab": {
          "base_uri": "https://localhost:8080/",
          "height": 36
        },
        "id": "52LLGMcS5KwR",
        "outputId": "50ad4e6b-c1ad-464d-c475-af64d1e863e6"
      },
      "execution_count": 61,
      "outputs": [
        {
          "output_type": "execute_result",
          "data": {
            "text/plain": [
              "'final'"
            ],
            "application/vnd.google.colaboratory.intrinsic+json": {
              "type": "string"
            }
          },
          "metadata": {},
          "execution_count": 61
        }
      ]
    },
    {
      "cell_type": "markdown",
      "source": [
        "###**Lemmatization -**"
      ],
      "metadata": {
        "id": "l2WZ1D8j8JWW"
      }
    },
    {
      "cell_type": "code",
      "source": [
        "nltk.download('wordnet')"
      ],
      "metadata": {
        "colab": {
          "base_uri": "https://localhost:8080/"
        },
        "id": "9xY-qZq6_-bb",
        "outputId": "1bdecbf4-8a00-4661-e9ac-2336a4544504"
      },
      "execution_count": 62,
      "outputs": [
        {
          "output_type": "stream",
          "name": "stderr",
          "text": [
            "[nltk_data] Downloading package wordnet to /root/nltk_data...\n",
            "[nltk_data]   Package wordnet is already up-to-date!\n"
          ]
        },
        {
          "output_type": "execute_result",
          "data": {
            "text/plain": [
              "True"
            ]
          },
          "metadata": {},
          "execution_count": 62
        }
      ]
    },
    {
      "cell_type": "code",
      "source": [
        "from nltk.stem import WordNetLemmatizer"
      ],
      "metadata": {
        "id": "PLeuDw0Z8M2q"
      },
      "execution_count": 63,
      "outputs": []
    },
    {
      "cell_type": "code",
      "source": [
        "lemmatizer=WordNetLemmatizer()"
      ],
      "metadata": {
        "id": "BWIbXUIL-aDW"
      },
      "execution_count": 64,
      "outputs": []
    },
    {
      "cell_type": "code",
      "source": [
        "lemmatizer.lemmatize('going')"
      ],
      "metadata": {
        "colab": {
          "base_uri": "https://localhost:8080/",
          "height": 36
        },
        "id": "sC-EBY8FAdoo",
        "outputId": "0270c8bd-4862-45bb-ea3a-e507e5d99ed6"
      },
      "execution_count": 65,
      "outputs": [
        {
          "output_type": "execute_result",
          "data": {
            "text/plain": [
              "'going'"
            ],
            "application/vnd.google.colaboratory.intrinsic+json": {
              "type": "string"
            }
          },
          "metadata": {},
          "execution_count": 65
        }
      ]
    },
    {
      "cell_type": "code",
      "source": [
        "lemmatizer.lemmatize('history')"
      ],
      "metadata": {
        "colab": {
          "base_uri": "https://localhost:8080/",
          "height": 36
        },
        "id": "lwTn-NzEASgy",
        "outputId": "3fe15de5-3914-487c-9565-a09b124e4664"
      },
      "execution_count": 66,
      "outputs": [
        {
          "output_type": "execute_result",
          "data": {
            "text/plain": [
              "'history'"
            ],
            "application/vnd.google.colaboratory.intrinsic+json": {
              "type": "string"
            }
          },
          "metadata": {},
          "execution_count": 66
        }
      ]
    },
    {
      "cell_type": "code",
      "source": [
        "lemmatizer.lemmatize('finally')"
      ],
      "metadata": {
        "colab": {
          "base_uri": "https://localhost:8080/",
          "height": 36
        },
        "id": "ErYGImGIAW60",
        "outputId": "1c6c6fed-256e-4217-de4c-2d330ff8365f"
      },
      "execution_count": 67,
      "outputs": [
        {
          "output_type": "execute_result",
          "data": {
            "text/plain": [
              "'finally'"
            ],
            "application/vnd.google.colaboratory.intrinsic+json": {
              "type": "string"
            }
          },
          "metadata": {},
          "execution_count": 67
        }
      ]
    },
    {
      "cell_type": "markdown",
      "source": [
        "### **Clean the entire text - like special characters , new lines with symbols etc - Corpus :**"
      ],
      "metadata": {
        "id": "mMrgDoAIC2a3"
      }
    },
    {
      "cell_type": "code",
      "source": [
        "# Firstly see the length :\n",
        "len(sentences)"
      ],
      "metadata": {
        "colab": {
          "base_uri": "https://localhost:8080/"
        },
        "id": "g0-bB0-MEZmB",
        "outputId": "c073965f-5e75-438d-b0d4-2ed891a41a70"
      },
      "execution_count": 68,
      "outputs": [
        {
          "output_type": "execute_result",
          "data": {
            "text/plain": [
              "33"
            ]
          },
          "metadata": {},
          "execution_count": 68
        }
      ]
    },
    {
      "cell_type": "code",
      "source": [
        "import re"
      ],
      "metadata": {
        "id": "TDFMNv58Iy7I"
      },
      "execution_count": 69,
      "outputs": []
    },
    {
      "cell_type": "code",
      "source": [
        "corpus=[]\n",
        "for i in range (len(sentences)) :\n",
        "  review=re.sub('[^a-zA-Z]',' ',sentences[i])\n",
        "  review=review.lower() # Convert this into lower case letter\n",
        "  corpus.append(review)"
      ],
      "metadata": {
        "id": "_lQlD9iwDJlO"
      },
      "execution_count": 70,
      "outputs": []
    },
    {
      "cell_type": "code",
      "source": [
        "corpus"
      ],
      "metadata": {
        "colab": {
          "base_uri": "https://localhost:8080/"
        },
        "id": "dqAQdITPI5V3",
        "outputId": "24d63cc1-bca2-4670-b412-35dd14c464dc"
      },
      "execution_count": 71,
      "outputs": [
        {
          "output_type": "execute_result",
          "data": {
            "text/plain": [
              "[' narendra damodardas modi a   born    september       is an indian politician who has served as the prime minister of india since      ',\n",
              " 'modi was the chief minister of gujarat from      to      and is the member of parliament  mp  for varanasi ',\n",
              " 'he is a member of the bharatiya janata party  bjp  and of the rashtriya swayamsevak sangh  rss   a right wing hindutva paramilitary volunteer organisation ',\n",
              " 'he is the longest serving prime minister outside the indian national congress ',\n",
              " 'modi was born and raised in vadnagar  bombay state  present day gujarat   where he completed his secondary education ',\n",
              " 'he was introduced to the rss at the age of eight  becoming a full time worker for the organisation in gujarat in      ',\n",
              " 'the rss assigned him to the bjp in       and he rose through the party hierarchy  becoming general secretary in      ',\n",
              " ' b  in       modi was appointed chief minister of gujarat and elected to the legislative assembly soon after ',\n",
              " 'his administration is considered complicit in the      gujarat riots c  and has been criticised for its management of the crisis ',\n",
              " 'according to official records  a little over       people were killed  three quarters of whom were muslim  independent sources estimated       deaths  mostly muslim ',\n",
              " '    a special investigation team appointed by the supreme court of india in      found no evidence to initiate prosecution proceedings against him ',\n",
              " ' d  while his policies as chief minister were credited for encouraging economic growth  his administration was criticised for failing to significantly improve health  poverty and education indices in the state ',\n",
              " ' e  in the      indian general election  modi led the bjp to a parliamentary majority  the first for a party since      ',\n",
              " 'his administration increased direct foreign investment and reduced spending on healthcare  education  and social welfare programs ',\n",
              " 'modi began a high profile sanitation campaign and weakened or abolished environmental and labour laws ',\n",
              " 'his demonetisation of banknotes in      and introduction of the goods and services tax in      sparked controversy ',\n",
              " 'modi s administration launched the      balakot airstrike against an alleged terrorist training camp in pakistan  the airstrike failed        but the action had nationalist appeal ',\n",
              " '    modi s party won the      general election which followed ',\n",
              " 'in its second term  his administration revoked the special status of jammu and kashmir and introduced the citizenship amendment act  prompting widespread protests and spurring the      delhi riots in which muslims were brutalised and killed by hindu mobs ',\n",
              " '           three controversial farm laws led to sit ins by farmers across the country  eventually causing their formal repeal ',\n",
              " 'modi oversaw india s response to the covid    pandemic  during which  according to the world health organization      million indians died ',\n",
              " '         in the      general election  modi s party lost its majority in the lower house of parliament and formed a government leading the national democratic alliance coalition ',\n",
              " 'following a terrorist attack in indian administered jammu and kashmir  modi presided over the      india pakistan conflict  which resulted in a ceasefire ',\n",
              " 'in ahmedabad  modi renewed his acquaintance with inamdar ',\n",
              " '             modi s first known political activity as an adult was in      when he joined a jana sangh satyagraha in delhi led by atal bihari vajpayee to enlist to fight in the bangladesh liberation war ',\n",
              " '         the indira gandhi led central government prohibited open support for the mukti bahini  according to modi  he was briefly held in tihar jail ',\n",
              " '             after the indo pakistani war of       modi left his uncle s employment and became a full time pracharak  campaigner  for the rss      working under inamdar ',\n",
              " '     shortly before the war  modi took part in a non violent protest in new delhi against the indian government  for which he was arrested  because of this arrest  inamdar decided to mentor modi ',\n",
              " '     according to modi  he was part of a satyagraha that led to a political war ',\n",
              " '     i   in       modi received a bachelor of arts  ba  degree in political science from the school of open learning     at the delhi university ',\n",
              " '         in       he received a master of arts  ma  degree in political science from gujarat university  graduating with a first class         as an external distance learning student ',\n",
              " '     there is a controversy surrounding the authenticity of his ba and ma degrees ',\n",
              " '         j ']"
            ]
          },
          "metadata": {},
          "execution_count": 71
        }
      ]
    },
    {
      "cell_type": "markdown",
      "source": [
        "### **Stemming on entire Corpus -**"
      ],
      "metadata": {
        "id": "ci8SZEEtJ7S5"
      }
    },
    {
      "cell_type": "code",
      "source": [
        "# Download stopwords\n",
        "import nltk\n",
        "from nltk.corpus import stopwords\n",
        "\n",
        "nltk.download('stopwords')"
      ],
      "metadata": {
        "colab": {
          "base_uri": "https://localhost:8080/"
        },
        "id": "NeZrhWhINjg3",
        "outputId": "4e6a1317-d1ab-484b-bf2a-4d4c2957af63"
      },
      "execution_count": 72,
      "outputs": [
        {
          "output_type": "stream",
          "name": "stderr",
          "text": [
            "[nltk_data] Downloading package stopwords to /root/nltk_data...\n",
            "[nltk_data]   Package stopwords is already up-to-date!\n"
          ]
        },
        {
          "output_type": "execute_result",
          "data": {
            "text/plain": [
              "True"
            ]
          },
          "metadata": {},
          "execution_count": 72
        }
      ]
    },
    {
      "cell_type": "code",
      "source": [
        "# First see i :\n",
        "for i in corpus:\n",
        "  print(i)"
      ],
      "metadata": {
        "colab": {
          "base_uri": "https://localhost:8080/"
        },
        "id": "2p2qE-zKN0ei",
        "outputId": "b377f6c3-9618-4c24-d3f3-0a569253e2de"
      },
      "execution_count": 73,
      "outputs": [
        {
          "output_type": "stream",
          "name": "stdout",
          "text": [
            " narendra damodardas modi a   born    september       is an indian politician who has served as the prime minister of india since      \n",
            "modi was the chief minister of gujarat from      to      and is the member of parliament  mp  for varanasi \n",
            "he is a member of the bharatiya janata party  bjp  and of the rashtriya swayamsevak sangh  rss   a right wing hindutva paramilitary volunteer organisation \n",
            "he is the longest serving prime minister outside the indian national congress \n",
            "modi was born and raised in vadnagar  bombay state  present day gujarat   where he completed his secondary education \n",
            "he was introduced to the rss at the age of eight  becoming a full time worker for the organisation in gujarat in      \n",
            "the rss assigned him to the bjp in       and he rose through the party hierarchy  becoming general secretary in      \n",
            " b  in       modi was appointed chief minister of gujarat and elected to the legislative assembly soon after \n",
            "his administration is considered complicit in the      gujarat riots c  and has been criticised for its management of the crisis \n",
            "according to official records  a little over       people were killed  three quarters of whom were muslim  independent sources estimated       deaths  mostly muslim \n",
            "    a special investigation team appointed by the supreme court of india in      found no evidence to initiate prosecution proceedings against him \n",
            " d  while his policies as chief minister were credited for encouraging economic growth  his administration was criticised for failing to significantly improve health  poverty and education indices in the state \n",
            " e  in the      indian general election  modi led the bjp to a parliamentary majority  the first for a party since      \n",
            "his administration increased direct foreign investment and reduced spending on healthcare  education  and social welfare programs \n",
            "modi began a high profile sanitation campaign and weakened or abolished environmental and labour laws \n",
            "his demonetisation of banknotes in      and introduction of the goods and services tax in      sparked controversy \n",
            "modi s administration launched the      balakot airstrike against an alleged terrorist training camp in pakistan  the airstrike failed        but the action had nationalist appeal \n",
            "    modi s party won the      general election which followed \n",
            "in its second term  his administration revoked the special status of jammu and kashmir and introduced the citizenship amendment act  prompting widespread protests and spurring the      delhi riots in which muslims were brutalised and killed by hindu mobs \n",
            "           three controversial farm laws led to sit ins by farmers across the country  eventually causing their formal repeal \n",
            "modi oversaw india s response to the covid    pandemic  during which  according to the world health organization      million indians died \n",
            "         in the      general election  modi s party lost its majority in the lower house of parliament and formed a government leading the national democratic alliance coalition \n",
            "following a terrorist attack in indian administered jammu and kashmir  modi presided over the      india pakistan conflict  which resulted in a ceasefire \n",
            "in ahmedabad  modi renewed his acquaintance with inamdar \n",
            "             modi s first known political activity as an adult was in      when he joined a jana sangh satyagraha in delhi led by atal bihari vajpayee to enlist to fight in the bangladesh liberation war \n",
            "         the indira gandhi led central government prohibited open support for the mukti bahini  according to modi  he was briefly held in tihar jail \n",
            "             after the indo pakistani war of       modi left his uncle s employment and became a full time pracharak  campaigner  for the rss      working under inamdar \n",
            "     shortly before the war  modi took part in a non violent protest in new delhi against the indian government  for which he was arrested  because of this arrest  inamdar decided to mentor modi \n",
            "     according to modi  he was part of a satyagraha that led to a political war \n",
            "     i   in       modi received a bachelor of arts  ba  degree in political science from the school of open learning     at the delhi university \n",
            "         in       he received a master of arts  ma  degree in political science from gujarat university  graduating with a first class         as an external distance learning student \n",
            "     there is a controversy surrounding the authenticity of his ba and ma degrees \n",
            "         j \n"
          ]
        }
      ]
    },
    {
      "cell_type": "code",
      "source": [
        "for i in corpus :\n",
        "  words=nltk.word_tokenize(i)\n",
        "  for word in words :\n",
        "    if word not in set(stopwords.words('english')) :\n",
        "      print(stemmer.stem(word))"
      ],
      "metadata": {
        "colab": {
          "base_uri": "https://localhost:8080/"
        },
        "id": "SAW2mMegKAl9",
        "outputId": "d4827cfe-32be-4c1f-f811-97ee33c075bf"
      },
      "execution_count": 74,
      "outputs": [
        {
          "output_type": "stream",
          "name": "stdout",
          "text": [
            "narendra\n",
            "damodarda\n",
            "modi\n",
            "born\n",
            "septemb\n",
            "indian\n",
            "politician\n",
            "serv\n",
            "prime\n",
            "minist\n",
            "india\n",
            "sinc\n",
            "modi\n",
            "chief\n",
            "minist\n",
            "gujarat\n",
            "member\n",
            "parliament\n",
            "mp\n",
            "varanasi\n",
            "member\n",
            "bharatiya\n",
            "janata\n",
            "parti\n",
            "bjp\n",
            "rashtriya\n",
            "swayamsevak\n",
            "sangh\n",
            "rss\n",
            "right\n",
            "wing\n",
            "hindutva\n",
            "paramilitari\n",
            "volunt\n",
            "organis\n",
            "longest\n",
            "serv\n",
            "prime\n",
            "minist\n",
            "outsid\n",
            "indian\n",
            "nation\n",
            "congress\n",
            "modi\n",
            "born\n",
            "rais\n",
            "vadnagar\n",
            "bombay\n",
            "state\n",
            "present\n",
            "day\n",
            "gujarat\n",
            "complet\n",
            "secondari\n",
            "educ\n",
            "introduc\n",
            "rss\n",
            "age\n",
            "eight\n",
            "becom\n",
            "full\n",
            "time\n",
            "worker\n",
            "organis\n",
            "gujarat\n",
            "rss\n",
            "assign\n",
            "bjp\n",
            "rose\n",
            "parti\n",
            "hierarchi\n",
            "becom\n",
            "gener\n",
            "secretari\n",
            "b\n",
            "modi\n",
            "appoint\n",
            "chief\n",
            "minist\n",
            "gujarat\n",
            "elect\n",
            "legisl\n",
            "assembl\n",
            "soon\n",
            "administr\n",
            "consid\n",
            "complicit\n",
            "gujarat\n",
            "riot\n",
            "c\n",
            "criticis\n",
            "manag\n",
            "crisi\n",
            "accord\n",
            "offici\n",
            "record\n",
            "littl\n",
            "peopl\n",
            "kill\n",
            "three\n",
            "quarter\n",
            "muslim\n",
            "independ\n",
            "sourc\n",
            "estim\n",
            "death\n",
            "mostli\n",
            "muslim\n",
            "special\n",
            "investig\n",
            "team\n",
            "appoint\n",
            "suprem\n",
            "court\n",
            "india\n",
            "found\n",
            "evid\n",
            "initi\n",
            "prosecut\n",
            "proceed\n",
            "polici\n",
            "chief\n",
            "minist\n",
            "credit\n",
            "encourag\n",
            "econom\n",
            "growth\n",
            "administr\n",
            "criticis\n",
            "fail\n",
            "significantli\n",
            "improv\n",
            "health\n",
            "poverti\n",
            "educ\n",
            "indic\n",
            "state\n",
            "e\n",
            "indian\n",
            "gener\n",
            "elect\n",
            "modi\n",
            "led\n",
            "bjp\n",
            "parliamentari\n",
            "major\n",
            "first\n",
            "parti\n",
            "sinc\n",
            "administr\n",
            "increas\n",
            "direct\n",
            "foreign\n",
            "invest\n",
            "reduc\n",
            "spend\n",
            "healthcar\n",
            "educ\n",
            "social\n",
            "welfar\n",
            "program\n",
            "modi\n",
            "began\n",
            "high\n",
            "profil\n",
            "sanit\n",
            "campaign\n",
            "weaken\n",
            "abolish\n",
            "environment\n",
            "labour\n",
            "law\n",
            "demonetis\n",
            "banknot\n",
            "introduct\n",
            "good\n",
            "servic\n",
            "tax\n",
            "spark\n",
            "controversi\n",
            "modi\n",
            "administr\n",
            "launch\n",
            "balakot\n",
            "airstrik\n",
            "alleg\n",
            "terrorist\n",
            "train\n",
            "camp\n",
            "pakistan\n",
            "airstrik\n",
            "fail\n",
            "action\n",
            "nationalist\n",
            "appeal\n",
            "modi\n",
            "parti\n",
            "gener\n",
            "elect\n",
            "follow\n",
            "second\n",
            "term\n",
            "administr\n",
            "revok\n",
            "special\n",
            "statu\n",
            "jammu\n",
            "kashmir\n",
            "introduc\n",
            "citizenship\n",
            "amend\n",
            "act\n",
            "prompt\n",
            "widespread\n",
            "protest\n",
            "spur\n",
            "delhi\n",
            "riot\n",
            "muslim\n",
            "brutalis\n",
            "kill\n",
            "hindu\n",
            "mob\n",
            "three\n",
            "controversi\n",
            "farm\n",
            "law\n",
            "led\n",
            "sit\n",
            "in\n",
            "farmer\n",
            "across\n",
            "countri\n",
            "eventu\n",
            "caus\n",
            "formal\n",
            "repeal\n",
            "modi\n",
            "oversaw\n",
            "india\n",
            "respons\n",
            "covid\n",
            "pandem\n",
            "accord\n",
            "world\n",
            "health\n",
            "organ\n",
            "million\n",
            "indian\n",
            "die\n",
            "gener\n",
            "elect\n",
            "modi\n",
            "parti\n",
            "lost\n",
            "major\n",
            "lower\n",
            "hous\n",
            "parliament\n",
            "form\n",
            "govern\n",
            "lead\n",
            "nation\n",
            "democrat\n",
            "allianc\n",
            "coalit\n",
            "follow\n",
            "terrorist\n",
            "attack\n",
            "indian\n",
            "administ\n",
            "jammu\n",
            "kashmir\n",
            "modi\n",
            "presid\n",
            "india\n",
            "pakistan\n",
            "conflict\n",
            "result\n",
            "ceasefir\n",
            "ahmedabad\n",
            "modi\n",
            "renew\n",
            "acquaint\n",
            "inamdar\n",
            "modi\n",
            "first\n",
            "known\n",
            "polit\n",
            "activ\n",
            "adult\n",
            "join\n",
            "jana\n",
            "sangh\n",
            "satyagraha\n",
            "delhi\n",
            "led\n",
            "atal\n",
            "bihari\n",
            "vajpaye\n",
            "enlist\n",
            "fight\n",
            "bangladesh\n",
            "liber\n",
            "war\n",
            "indira\n",
            "gandhi\n",
            "led\n",
            "central\n",
            "govern\n",
            "prohibit\n",
            "open\n",
            "support\n",
            "mukti\n",
            "bahini\n",
            "accord\n",
            "modi\n",
            "briefli\n",
            "held\n",
            "tihar\n",
            "jail\n",
            "indo\n",
            "pakistani\n",
            "war\n",
            "modi\n",
            "left\n",
            "uncl\n",
            "employ\n",
            "becam\n",
            "full\n",
            "time\n",
            "pracharak\n",
            "campaign\n",
            "rss\n",
            "work\n",
            "inamdar\n",
            "shortli\n",
            "war\n",
            "modi\n",
            "took\n",
            "part\n",
            "non\n",
            "violent\n",
            "protest\n",
            "new\n",
            "delhi\n",
            "indian\n",
            "govern\n",
            "arrest\n",
            "arrest\n",
            "inamdar\n",
            "decid\n",
            "mentor\n",
            "modi\n",
            "accord\n",
            "modi\n",
            "part\n",
            "satyagraha\n",
            "led\n",
            "polit\n",
            "war\n",
            "modi\n",
            "receiv\n",
            "bachelor\n",
            "art\n",
            "ba\n",
            "degre\n",
            "polit\n",
            "scienc\n",
            "school\n",
            "open\n",
            "learn\n",
            "delhi\n",
            "univers\n",
            "receiv\n",
            "master\n",
            "art\n",
            "degre\n",
            "polit\n",
            "scienc\n",
            "gujarat\n",
            "univers\n",
            "graduat\n",
            "first\n",
            "class\n",
            "extern\n",
            "distanc\n",
            "learn\n",
            "student\n",
            "controversi\n",
            "surround\n",
            "authent\n",
            "ba\n",
            "degre\n",
            "j\n"
          ]
        }
      ]
    },
    {
      "cell_type": "code",
      "source": [
        "# English Stopwords :\n",
        "stopwords.words('english')"
      ],
      "metadata": {
        "colab": {
          "base_uri": "https://localhost:8080/"
        },
        "id": "NXiT3q8hMxrp",
        "outputId": "b9a97982-bc57-4254-becc-a4797b31f2e6"
      },
      "execution_count": 75,
      "outputs": [
        {
          "output_type": "execute_result",
          "data": {
            "text/plain": [
              "['a',\n",
              " 'about',\n",
              " 'above',\n",
              " 'after',\n",
              " 'again',\n",
              " 'against',\n",
              " 'ain',\n",
              " 'all',\n",
              " 'am',\n",
              " 'an',\n",
              " 'and',\n",
              " 'any',\n",
              " 'are',\n",
              " 'aren',\n",
              " \"aren't\",\n",
              " 'as',\n",
              " 'at',\n",
              " 'be',\n",
              " 'because',\n",
              " 'been',\n",
              " 'before',\n",
              " 'being',\n",
              " 'below',\n",
              " 'between',\n",
              " 'both',\n",
              " 'but',\n",
              " 'by',\n",
              " 'can',\n",
              " 'couldn',\n",
              " \"couldn't\",\n",
              " 'd',\n",
              " 'did',\n",
              " 'didn',\n",
              " \"didn't\",\n",
              " 'do',\n",
              " 'does',\n",
              " 'doesn',\n",
              " \"doesn't\",\n",
              " 'doing',\n",
              " 'don',\n",
              " \"don't\",\n",
              " 'down',\n",
              " 'during',\n",
              " 'each',\n",
              " 'few',\n",
              " 'for',\n",
              " 'from',\n",
              " 'further',\n",
              " 'had',\n",
              " 'hadn',\n",
              " \"hadn't\",\n",
              " 'has',\n",
              " 'hasn',\n",
              " \"hasn't\",\n",
              " 'have',\n",
              " 'haven',\n",
              " \"haven't\",\n",
              " 'having',\n",
              " 'he',\n",
              " \"he'd\",\n",
              " \"he'll\",\n",
              " 'her',\n",
              " 'here',\n",
              " 'hers',\n",
              " 'herself',\n",
              " \"he's\",\n",
              " 'him',\n",
              " 'himself',\n",
              " 'his',\n",
              " 'how',\n",
              " 'i',\n",
              " \"i'd\",\n",
              " 'if',\n",
              " \"i'll\",\n",
              " \"i'm\",\n",
              " 'in',\n",
              " 'into',\n",
              " 'is',\n",
              " 'isn',\n",
              " \"isn't\",\n",
              " 'it',\n",
              " \"it'd\",\n",
              " \"it'll\",\n",
              " \"it's\",\n",
              " 'its',\n",
              " 'itself',\n",
              " \"i've\",\n",
              " 'just',\n",
              " 'll',\n",
              " 'm',\n",
              " 'ma',\n",
              " 'me',\n",
              " 'mightn',\n",
              " \"mightn't\",\n",
              " 'more',\n",
              " 'most',\n",
              " 'mustn',\n",
              " \"mustn't\",\n",
              " 'my',\n",
              " 'myself',\n",
              " 'needn',\n",
              " \"needn't\",\n",
              " 'no',\n",
              " 'nor',\n",
              " 'not',\n",
              " 'now',\n",
              " 'o',\n",
              " 'of',\n",
              " 'off',\n",
              " 'on',\n",
              " 'once',\n",
              " 'only',\n",
              " 'or',\n",
              " 'other',\n",
              " 'our',\n",
              " 'ours',\n",
              " 'ourselves',\n",
              " 'out',\n",
              " 'over',\n",
              " 'own',\n",
              " 're',\n",
              " 's',\n",
              " 'same',\n",
              " 'shan',\n",
              " \"shan't\",\n",
              " 'she',\n",
              " \"she'd\",\n",
              " \"she'll\",\n",
              " \"she's\",\n",
              " 'should',\n",
              " 'shouldn',\n",
              " \"shouldn't\",\n",
              " \"should've\",\n",
              " 'so',\n",
              " 'some',\n",
              " 'such',\n",
              " 't',\n",
              " 'than',\n",
              " 'that',\n",
              " \"that'll\",\n",
              " 'the',\n",
              " 'their',\n",
              " 'theirs',\n",
              " 'them',\n",
              " 'themselves',\n",
              " 'then',\n",
              " 'there',\n",
              " 'these',\n",
              " 'they',\n",
              " \"they'd\",\n",
              " \"they'll\",\n",
              " \"they're\",\n",
              " \"they've\",\n",
              " 'this',\n",
              " 'those',\n",
              " 'through',\n",
              " 'to',\n",
              " 'too',\n",
              " 'under',\n",
              " 'until',\n",
              " 'up',\n",
              " 've',\n",
              " 'very',\n",
              " 'was',\n",
              " 'wasn',\n",
              " \"wasn't\",\n",
              " 'we',\n",
              " \"we'd\",\n",
              " \"we'll\",\n",
              " \"we're\",\n",
              " 'were',\n",
              " 'weren',\n",
              " \"weren't\",\n",
              " \"we've\",\n",
              " 'what',\n",
              " 'when',\n",
              " 'where',\n",
              " 'which',\n",
              " 'while',\n",
              " 'who',\n",
              " 'whom',\n",
              " 'why',\n",
              " 'will',\n",
              " 'with',\n",
              " 'won',\n",
              " \"won't\",\n",
              " 'wouldn',\n",
              " \"wouldn't\",\n",
              " 'y',\n",
              " 'you',\n",
              " \"you'd\",\n",
              " \"you'll\",\n",
              " 'your',\n",
              " \"you're\",\n",
              " 'yours',\n",
              " 'yourself',\n",
              " 'yourselves',\n",
              " \"you've\"]"
            ]
          },
          "metadata": {},
          "execution_count": 75
        }
      ]
    },
    {
      "cell_type": "markdown",
      "source": [
        "###**Lemmatization on entire Corpus -**"
      ],
      "metadata": {
        "id": "WovBshLnRjEs"
      }
    },
    {
      "cell_type": "code",
      "source": [
        "for i in corpus :\n",
        "  words=nltk.word_tokenize(i)\n",
        "  for word in words :\n",
        "    if word not in set(stopwords.words('english')) :\n",
        "      print(lemmatizer.lemmatize(word))"
      ],
      "metadata": {
        "colab": {
          "base_uri": "https://localhost:8080/"
        },
        "id": "idsP6ml_RmhA",
        "outputId": "915dd71f-d433-4623-c079-bfed2955ffd4"
      },
      "execution_count": 76,
      "outputs": [
        {
          "output_type": "stream",
          "name": "stdout",
          "text": [
            "narendra\n",
            "damodardas\n",
            "modi\n",
            "born\n",
            "september\n",
            "indian\n",
            "politician\n",
            "served\n",
            "prime\n",
            "minister\n",
            "india\n",
            "since\n",
            "modi\n",
            "chief\n",
            "minister\n",
            "gujarat\n",
            "member\n",
            "parliament\n",
            "mp\n",
            "varanasi\n",
            "member\n",
            "bharatiya\n",
            "janata\n",
            "party\n",
            "bjp\n",
            "rashtriya\n",
            "swayamsevak\n",
            "sangh\n",
            "rss\n",
            "right\n",
            "wing\n",
            "hindutva\n",
            "paramilitary\n",
            "volunteer\n",
            "organisation\n",
            "longest\n",
            "serving\n",
            "prime\n",
            "minister\n",
            "outside\n",
            "indian\n",
            "national\n",
            "congress\n",
            "modi\n",
            "born\n",
            "raised\n",
            "vadnagar\n",
            "bombay\n",
            "state\n",
            "present\n",
            "day\n",
            "gujarat\n",
            "completed\n",
            "secondary\n",
            "education\n",
            "introduced\n",
            "rss\n",
            "age\n",
            "eight\n",
            "becoming\n",
            "full\n",
            "time\n",
            "worker\n",
            "organisation\n",
            "gujarat\n",
            "rss\n",
            "assigned\n",
            "bjp\n",
            "rose\n",
            "party\n",
            "hierarchy\n",
            "becoming\n",
            "general\n",
            "secretary\n",
            "b\n",
            "modi\n",
            "appointed\n",
            "chief\n",
            "minister\n",
            "gujarat\n",
            "elected\n",
            "legislative\n",
            "assembly\n",
            "soon\n",
            "administration\n",
            "considered\n",
            "complicit\n",
            "gujarat\n",
            "riot\n",
            "c\n",
            "criticised\n",
            "management\n",
            "crisis\n",
            "according\n",
            "official\n",
            "record\n",
            "little\n",
            "people\n",
            "killed\n",
            "three\n",
            "quarter\n",
            "muslim\n",
            "independent\n",
            "source\n",
            "estimated\n",
            "death\n",
            "mostly\n",
            "muslim\n",
            "special\n",
            "investigation\n",
            "team\n",
            "appointed\n",
            "supreme\n",
            "court\n",
            "india\n",
            "found\n",
            "evidence\n",
            "initiate\n",
            "prosecution\n",
            "proceeding\n",
            "policy\n",
            "chief\n",
            "minister\n",
            "credited\n",
            "encouraging\n",
            "economic\n",
            "growth\n",
            "administration\n",
            "criticised\n",
            "failing\n",
            "significantly\n",
            "improve\n",
            "health\n",
            "poverty\n",
            "education\n",
            "index\n",
            "state\n",
            "e\n",
            "indian\n",
            "general\n",
            "election\n",
            "modi\n",
            "led\n",
            "bjp\n",
            "parliamentary\n",
            "majority\n",
            "first\n",
            "party\n",
            "since\n",
            "administration\n",
            "increased\n",
            "direct\n",
            "foreign\n",
            "investment\n",
            "reduced\n",
            "spending\n",
            "healthcare\n",
            "education\n",
            "social\n",
            "welfare\n",
            "program\n",
            "modi\n",
            "began\n",
            "high\n",
            "profile\n",
            "sanitation\n",
            "campaign\n",
            "weakened\n",
            "abolished\n",
            "environmental\n",
            "labour\n",
            "law\n",
            "demonetisation\n",
            "banknote\n",
            "introduction\n",
            "good\n",
            "service\n",
            "tax\n",
            "sparked\n",
            "controversy\n",
            "modi\n",
            "administration\n",
            "launched\n",
            "balakot\n",
            "airstrike\n",
            "alleged\n",
            "terrorist\n",
            "training\n",
            "camp\n",
            "pakistan\n",
            "airstrike\n",
            "failed\n",
            "action\n",
            "nationalist\n",
            "appeal\n",
            "modi\n",
            "party\n",
            "general\n",
            "election\n",
            "followed\n",
            "second\n",
            "term\n",
            "administration\n",
            "revoked\n",
            "special\n",
            "status\n",
            "jammu\n",
            "kashmir\n",
            "introduced\n",
            "citizenship\n",
            "amendment\n",
            "act\n",
            "prompting\n",
            "widespread\n",
            "protest\n",
            "spurring\n",
            "delhi\n",
            "riot\n",
            "muslim\n",
            "brutalised\n",
            "killed\n",
            "hindu\n",
            "mob\n",
            "three\n",
            "controversial\n",
            "farm\n",
            "law\n",
            "led\n",
            "sit\n",
            "in\n",
            "farmer\n",
            "across\n",
            "country\n",
            "eventually\n",
            "causing\n",
            "formal\n",
            "repeal\n",
            "modi\n",
            "oversaw\n",
            "india\n",
            "response\n",
            "covid\n",
            "pandemic\n",
            "according\n",
            "world\n",
            "health\n",
            "organization\n",
            "million\n",
            "indian\n",
            "died\n",
            "general\n",
            "election\n",
            "modi\n",
            "party\n",
            "lost\n",
            "majority\n",
            "lower\n",
            "house\n",
            "parliament\n",
            "formed\n",
            "government\n",
            "leading\n",
            "national\n",
            "democratic\n",
            "alliance\n",
            "coalition\n",
            "following\n",
            "terrorist\n",
            "attack\n",
            "indian\n",
            "administered\n",
            "jammu\n",
            "kashmir\n",
            "modi\n",
            "presided\n",
            "india\n",
            "pakistan\n",
            "conflict\n",
            "resulted\n",
            "ceasefire\n",
            "ahmedabad\n",
            "modi\n",
            "renewed\n",
            "acquaintance\n",
            "inamdar\n",
            "modi\n",
            "first\n",
            "known\n",
            "political\n",
            "activity\n",
            "adult\n",
            "joined\n",
            "jana\n",
            "sangh\n",
            "satyagraha\n",
            "delhi\n",
            "led\n",
            "atal\n",
            "bihari\n",
            "vajpayee\n",
            "enlist\n",
            "fight\n",
            "bangladesh\n",
            "liberation\n",
            "war\n",
            "indira\n",
            "gandhi\n",
            "led\n",
            "central\n",
            "government\n",
            "prohibited\n",
            "open\n",
            "support\n",
            "mukti\n",
            "bahini\n",
            "according\n",
            "modi\n",
            "briefly\n",
            "held\n",
            "tihar\n",
            "jail\n",
            "indo\n",
            "pakistani\n",
            "war\n",
            "modi\n",
            "left\n",
            "uncle\n",
            "employment\n",
            "became\n",
            "full\n",
            "time\n",
            "pracharak\n",
            "campaigner\n",
            "rss\n",
            "working\n",
            "inamdar\n",
            "shortly\n",
            "war\n",
            "modi\n",
            "took\n",
            "part\n",
            "non\n",
            "violent\n",
            "protest\n",
            "new\n",
            "delhi\n",
            "indian\n",
            "government\n",
            "arrested\n",
            "arrest\n",
            "inamdar\n",
            "decided\n",
            "mentor\n",
            "modi\n",
            "according\n",
            "modi\n",
            "part\n",
            "satyagraha\n",
            "led\n",
            "political\n",
            "war\n",
            "modi\n",
            "received\n",
            "bachelor\n",
            "art\n",
            "ba\n",
            "degree\n",
            "political\n",
            "science\n",
            "school\n",
            "open\n",
            "learning\n",
            "delhi\n",
            "university\n",
            "received\n",
            "master\n",
            "art\n",
            "degree\n",
            "political\n",
            "science\n",
            "gujarat\n",
            "university\n",
            "graduating\n",
            "first\n",
            "class\n",
            "external\n",
            "distance\n",
            "learning\n",
            "student\n",
            "controversy\n",
            "surrounding\n",
            "authenticity\n",
            "ba\n",
            "degree\n",
            "j\n"
          ]
        }
      ]
    },
    {
      "cell_type": "markdown",
      "source": [
        "##**Bag-of-Words ->**"
      ],
      "metadata": {
        "id": "iR05LRcNTCjR"
      }
    },
    {
      "cell_type": "code",
      "source": [
        "from sklearn.feature_extraction.text import CountVectorizer"
      ],
      "metadata": {
        "id": "Qn71PwTPTKIE"
      },
      "execution_count": 77,
      "outputs": []
    },
    {
      "cell_type": "code",
      "source": [
        "# cv=CountVectorizer() #without n-gram\n",
        "# Tri-gram :\n",
        "cv=CountVectorizer(ngram_range=(3,3)) #with n-gram : Trigram"
      ],
      "metadata": {
        "id": "FExDpMq_VBLI"
      },
      "execution_count": 78,
      "outputs": []
    },
    {
      "cell_type": "code",
      "source": [
        "x = cv.fit_transform(corpus)  #theses are the idx or feature numbers"
      ],
      "metadata": {
        "id": "g-0_4ddmVHw5"
      },
      "execution_count": 79,
      "outputs": []
    },
    {
      "cell_type": "code",
      "source": [
        "cv.vocabulary_"
      ],
      "metadata": {
        "colab": {
          "base_uri": "https://localhost:8080/"
        },
        "id": "wlMnuPllVSH9",
        "outputId": "50a7b93c-bb11-4f39-ec75-e266496e511d"
      },
      "execution_count": 80,
      "outputs": [
        {
          "output_type": "execute_result",
          "data": {
            "text/plain": [
              "{'narendra damodardas modi': 332,\n",
              " 'damodardas modi born': 117,\n",
              " 'modi born september': 313,\n",
              " 'born september is': 88,\n",
              " 'september is an': 429,\n",
              " 'is an indian': 266,\n",
              " 'an indian politician': 28,\n",
              " 'indian politician who': 255,\n",
              " 'politician who has': 387,\n",
              " 'who has served': 551,\n",
              " 'has served as': 188,\n",
              " 'served as the': 430,\n",
              " 'as the prime': 59,\n",
              " 'the prime minister': 487,\n",
              " 'prime minister of': 392,\n",
              " 'minister of india': 308,\n",
              " 'of india since': 345,\n",
              " 'modi was the': 327,\n",
              " 'was the chief': 538,\n",
              " 'the chief minister': 463,\n",
              " 'chief minister of': 101,\n",
              " 'minister of gujarat': 307,\n",
              " 'of gujarat from': 342,\n",
              " 'gujarat from to': 182,\n",
              " 'from to and': 168,\n",
              " 'to and is': 505,\n",
              " 'and is the': 37,\n",
              " 'is the member': 271,\n",
              " 'the member of': 482,\n",
              " 'member of parliament': 304,\n",
              " 'of parliament mp': 350,\n",
              " 'parliament mp for': 375,\n",
              " 'mp for varanasi': 328,\n",
              " 'he is member': 190,\n",
              " 'is member of': 269,\n",
              " 'member of the': 305,\n",
              " 'of the bharatiya': 352,\n",
              " 'the bharatiya janata': 460,\n",
              " 'bharatiya janata party': 81,\n",
              " 'janata party bjp': 277,\n",
              " 'party bjp and': 379,\n",
              " 'bjp and of': 83,\n",
              " 'and of the': 43,\n",
              " 'of the rashtriya': 355,\n",
              " 'the rashtriya swayamsevak': 488,\n",
              " 'rashtriya swayamsevak sangh': 403,\n",
              " 'swayamsevak sangh rss': 447,\n",
              " 'sangh rss right': 420,\n",
              " 'rss right wing': 418,\n",
              " 'right wing hindutva': 412,\n",
              " 'wing hindutva paramilitary': 554,\n",
              " 'hindutva paramilitary volunteer': 206,\n",
              " 'paramilitary volunteer organisation': 373,\n",
              " 'he is the': 191,\n",
              " 'is the longest': 270,\n",
              " 'the longest serving': 480,\n",
              " 'longest serving prime': 296,\n",
              " 'serving prime minister': 432,\n",
              " 'prime minister outside': 393,\n",
              " 'minister outside the': 309,\n",
              " 'outside the indian': 365,\n",
              " 'the indian national': 476,\n",
              " 'indian national congress': 254,\n",
              " 'modi was born': 326,\n",
              " 'was born and': 532,\n",
              " 'born and raised': 87,\n",
              " 'and raised in': 44,\n",
              " 'raised in vadnagar': 402,\n",
              " 'in vadnagar bombay': 242,\n",
              " 'vadnagar bombay state': 525,\n",
              " 'bombay state present': 86,\n",
              " 'state present day': 442,\n",
              " 'present day gujarat': 390,\n",
              " 'day gujarat where': 118,\n",
              " 'gujarat where he': 185,\n",
              " 'where he completed': 545,\n",
              " 'he completed his': 189,\n",
              " 'completed his secondary': 105,\n",
              " 'his secondary education': 215,\n",
              " 'he was introduced': 197,\n",
              " 'was introduced to': 536,\n",
              " 'introduced to the': 262,\n",
              " 'to the rss': 519,\n",
              " 'the rss at': 490,\n",
              " 'rss at the': 417,\n",
              " 'at the age': 62,\n",
              " 'the age of': 455,\n",
              " 'age of eight': 19,\n",
              " 'of eight becoming': 340,\n",
              " 'eight becoming full': 133,\n",
              " 'becoming full time': 76,\n",
              " 'full time worker': 170,\n",
              " 'time worker for': 504,\n",
              " 'worker for the': 557,\n",
              " 'for the organisation': 160,\n",
              " 'the organisation in': 485,\n",
              " 'organisation in gujarat': 363,\n",
              " 'in gujarat in': 224,\n",
              " 'the rss assigned': 489,\n",
              " 'rss assigned him': 416,\n",
              " 'assigned him to': 61,\n",
              " 'him to the': 205,\n",
              " 'to the bjp': 516,\n",
              " 'the bjp in': 461,\n",
              " 'bjp in and': 84,\n",
              " 'in and he': 220,\n",
              " 'and he rose': 34,\n",
              " 'he rose through': 194,\n",
              " 'rose through the': 415,\n",
              " 'through the party': 502,\n",
              " 'the party hierarchy': 486,\n",
              " 'party hierarchy becoming': 380,\n",
              " 'hierarchy becoming general': 203,\n",
              " 'becoming general secretary': 77,\n",
              " 'general secretary in': 174,\n",
              " 'in modi was': 229,\n",
              " 'modi was appointed': 325,\n",
              " 'was appointed chief': 530,\n",
              " 'appointed chief minister': 51,\n",
              " 'of gujarat and': 341,\n",
              " 'gujarat and elected': 181,\n",
              " 'and elected to': 31,\n",
              " 'elected to the': 134,\n",
              " 'to the legislative': 518,\n",
              " 'the legislative assembly': 479,\n",
              " 'legislative assembly soon': 294,\n",
              " 'assembly soon after': 60,\n",
              " 'his administration is': 209,\n",
              " 'administration is considered': 11,\n",
              " 'is considered complicit': 267,\n",
              " 'considered complicit in': 108,\n",
              " 'complicit in the': 106,\n",
              " 'in the gujarat': 237,\n",
              " 'the gujarat riots': 472,\n",
              " 'gujarat riots and': 183,\n",
              " 'riots and has': 413,\n",
              " 'and has been': 33,\n",
              " 'has been criticised': 187,\n",
              " 'been criticised for': 78,\n",
              " 'criticised for its': 116,\n",
              " 'for its management': 157,\n",
              " 'its management of': 273,\n",
              " 'management of the': 302,\n",
              " 'of the crisis': 353,\n",
              " 'according to official': 2,\n",
              " 'to official records': 511,\n",
              " 'official records little': 358,\n",
              " 'records little over': 406,\n",
              " 'little over people': 295,\n",
              " 'over people were': 366,\n",
              " 'people were killed': 383,\n",
              " 'were killed three': 542,\n",
              " 'killed three quarters': 282,\n",
              " 'three quarters of': 501,\n",
              " 'quarters of whom': 401,\n",
              " 'of whom were': 357,\n",
              " 'whom were muslim': 552,\n",
              " 'were muslim independent': 543,\n",
              " 'muslim independent sources': 330,\n",
              " 'independent sources estimated': 247,\n",
              " 'sources estimated deaths': 437,\n",
              " 'estimated deaths mostly': 142,\n",
              " 'deaths mostly muslim': 119,\n",
              " 'special investigation team': 438,\n",
              " 'investigation team appointed': 264,\n",
              " 'team appointed by': 449,\n",
              " 'appointed by the': 50,\n",
              " 'by the supreme': 95,\n",
              " 'the supreme court': 494,\n",
              " 'supreme court of': 445,\n",
              " 'court of india': 112,\n",
              " 'of india in': 344,\n",
              " 'india in found': 248,\n",
              " 'in found no': 223,\n",
              " 'found no evidence': 165,\n",
              " 'no evidence to': 335,\n",
              " 'evidence to initiate': 144,\n",
              " 'to initiate prosecution': 508,\n",
              " 'initiate prosecution proceedings': 259,\n",
              " 'prosecution proceedings against': 398,\n",
              " 'proceedings against him': 394,\n",
              " 'while his policies': 550,\n",
              " 'his policies as': 214,\n",
              " 'policies as chief': 384,\n",
              " 'as chief minister': 58,\n",
              " 'chief minister were': 102,\n",
              " 'minister were credited': 310,\n",
              " 'were credited for': 541,\n",
              " 'credited for encouraging': 114,\n",
              " 'for encouraging economic': 155,\n",
              " 'encouraging economic growth': 139,\n",
              " 'economic growth his': 130,\n",
              " 'growth his administration': 180,\n",
              " 'his administration was': 211,\n",
              " 'administration was criticised': 14,\n",
              " 'was criticised for': 534,\n",
              " 'criticised for failing': 115,\n",
              " 'for failing to': 156,\n",
              " 'failing to significantly': 147,\n",
              " 'to significantly improve': 514,\n",
              " 'significantly improve health': 434,\n",
              " 'improve health poverty': 218,\n",
              " 'health poverty and': 200,\n",
              " 'poverty and education': 388,\n",
              " 'and education indices': 30,\n",
              " 'education indices in': 132,\n",
              " 'indices in the': 256,\n",
              " 'in the state': 240,\n",
              " 'in the indian': 238,\n",
              " 'the indian general': 474,\n",
              " 'indian general election': 252,\n",
              " 'general election modi': 172,\n",
              " 'election modi led': 135,\n",
              " 'modi led the': 316,\n",
              " 'led the bjp': 290,\n",
              " 'the bjp to': 462,\n",
              " 'bjp to parliamentary': 85,\n",
              " 'to parliamentary majority': 512,\n",
              " 'parliamentary majority the': 376,\n",
              " 'majority the first': 301,\n",
              " 'the first for': 469,\n",
              " 'first for party': 152,\n",
              " 'for party since': 158,\n",
              " 'his administration increased': 208,\n",
              " 'administration increased direct': 10,\n",
              " 'increased direct foreign': 246,\n",
              " 'direct foreign investment': 127,\n",
              " 'foreign investment and': 163,\n",
              " 'investment and reduced': 265,\n",
              " 'and reduced spending': 45,\n",
              " 'reduced spending on': 407,\n",
              " 'spending on healthcare': 440,\n",
              " 'on healthcare education': 359,\n",
              " 'healthcare education and': 201,\n",
              " 'education and social': 131,\n",
              " 'and social welfare': 47,\n",
              " 'social welfare programs': 436,\n",
              " 'modi began high': 312,\n",
              " 'began high profile': 80,\n",
              " 'high profile sanitation': 204,\n",
              " 'profile sanitation campaign': 395,\n",
              " 'sanitation campaign and': 422,\n",
              " 'campaign and weakened': 97,\n",
              " 'and weakened or': 49,\n",
              " 'weakened or abolished': 539,\n",
              " 'or abolished environmental': 362,\n",
              " 'abolished environmental and': 0,\n",
              " 'environmental and labour': 141,\n",
              " 'and labour laws': 41,\n",
              " 'his demonetisation of': 213,\n",
              " 'demonetisation of banknotes': 126,\n",
              " 'of banknotes in': 339,\n",
              " 'banknotes in and': 73,\n",
              " 'in and introduction': 221,\n",
              " 'and introduction of': 36,\n",
              " 'introduction of the': 263,\n",
              " 'of the goods': 354,\n",
              " 'the goods and': 471,\n",
              " 'goods and services': 175,\n",
              " 'and services tax': 46,\n",
              " 'services tax in': 431,\n",
              " 'tax in sparked': 448,\n",
              " 'in sparked controversy': 234,\n",
              " 'modi administration launched': 311,\n",
              " 'administration launched the': 12,\n",
              " 'launched the balakot': 284,\n",
              " 'the balakot airstrike': 458,\n",
              " 'balakot airstrike against': 71,\n",
              " 'airstrike against an': 21,\n",
              " 'against an alleged': 17,\n",
              " 'an alleged terrorist': 26,\n",
              " 'alleged terrorist training': 23,\n",
              " 'terrorist training camp': 452,\n",
              " 'training camp in': 522,\n",
              " 'camp in pakistan': 96,\n",
              " 'in pakistan the': 232,\n",
              " 'pakistan the airstrike': 370,\n",
              " 'the airstrike failed': 456,\n",
              " 'airstrike failed but': 22,\n",
              " 'failed but the': 146,\n",
              " 'but the action': 91,\n",
              " 'the action had': 454,\n",
              " 'action had nationalist': 7,\n",
              " 'had nationalist appeal': 186,\n",
              " 'modi party won': 320,\n",
              " 'party won the': 382,\n",
              " 'won the general': 556,\n",
              " 'the general election': 470,\n",
              " 'general election which': 173,\n",
              " 'election which followed': 137,\n",
              " 'in its second': 227,\n",
              " 'its second term': 274,\n",
              " 'second term his': 428,\n",
              " 'term his administration': 450,\n",
              " 'his administration revoked': 210,\n",
              " 'administration revoked the': 13,\n",
              " 'revoked the special': 411,\n",
              " 'the special status': 493,\n",
              " 'special status of': 439,\n",
              " 'status of jammu': 443,\n",
              " 'of jammu and': 346,\n",
              " 'jammu and kashmir': 275,\n",
              " 'and kashmir and': 38,\n",
              " 'kashmir and introduced': 279,\n",
              " 'and introduced the': 35,\n",
              " 'introduced the citizenship': 261,\n",
              " 'the citizenship amendment': 464,\n",
              " 'citizenship amendment act': 103,\n",
              " 'amendment act prompting': 24,\n",
              " 'act prompting widespread': 6,\n",
              " 'prompting widespread protests': 397,\n",
              " 'widespread protests and': 553,\n",
              " 'protests and spurring': 400,\n",
              " 'and spurring the': 48,\n",
              " 'spurring the delhi': 441,\n",
              " 'the delhi riots': 467,\n",
              " 'delhi riots in': 124,\n",
              " 'riots in which': 414,\n",
              " 'in which muslims': 244,\n",
              " 'which muslims were': 548,\n",
              " 'muslims were brutalised': 331,\n",
              " 'were brutalised and': 540,\n",
              " 'brutalised and killed': 90,\n",
              " 'and killed by': 40,\n",
              " 'killed by hindu': 281,\n",
              " 'by hindu mobs': 94,\n",
              " 'three controversial farm': 500,\n",
              " 'controversial farm laws': 109,\n",
              " 'farm laws led': 148,\n",
              " 'laws led to': 285,\n",
              " 'led to sit': 292,\n",
              " 'to sit ins': 515,\n",
              " 'sit ins by': 435,\n",
              " 'ins by farmers': 260,\n",
              " 'by farmers across': 93,\n",
              " 'farmers across the': 149,\n",
              " 'across the country': 5,\n",
              " 'the country eventually': 465,\n",
              " 'country eventually causing': 111,\n",
              " 'eventually causing their': 143,\n",
              " 'causing their formal': 99,\n",
              " 'their formal repeal': 497,\n",
              " 'modi oversaw india': 318,\n",
              " 'oversaw india response': 368,\n",
              " 'india response to': 250,\n",
              " 'response to the': 409,\n",
              " 'to the covid': 517,\n",
              " 'the covid pandemic': 466,\n",
              " 'covid pandemic during': 113,\n",
              " 'pandemic during which': 372,\n",
              " 'during which according': 129,\n",
              " 'which according to': 546,\n",
              " 'according to the': 3,\n",
              " 'to the world': 520,\n",
              " 'the world health': 496,\n",
              " 'world health organization': 559,\n",
              " 'health organization million': 199,\n",
              " 'organization million indians': 364,\n",
              " 'million indians died': 306,\n",
              " 'in the general': 236,\n",
              " 'election modi party': 136,\n",
              " 'modi party lost': 319,\n",
              " 'party lost its': 381,\n",
              " 'lost its majority': 297,\n",
              " 'its majority in': 272,\n",
              " 'majority in the': 300,\n",
              " 'in the lower': 239,\n",
              " 'the lower house': 481,\n",
              " 'lower house of': 298,\n",
              " 'house of parliament': 217,\n",
              " 'of parliament and': 349,\n",
              " 'parliament and formed': 374,\n",
              " 'and formed government': 32,\n",
              " 'formed government leading': 164,\n",
              " 'government leading the': 177,\n",
              " 'leading the national': 286,\n",
              " 'the national democratic': 484,\n",
              " 'national democratic alliance': 333,\n",
              " 'democratic alliance coalition': 125,\n",
              " 'following terrorist attack': 154,\n",
              " 'terrorist attack in': 451,\n",
              " 'attack in indian': 65,\n",
              " 'in indian administered': 226,\n",
              " 'indian administered jammu': 251,\n",
              " 'administered jammu and': 9,\n",
              " 'and kashmir modi': 39,\n",
              " 'kashmir modi presided': 280,\n",
              " 'modi presided over': 321,\n",
              " 'presided over the': 391,\n",
              " 'over the india': 367,\n",
              " 'the india pakistan': 473,\n",
              " 'india pakistan conflict': 249,\n",
              " 'pakistan conflict which': 369,\n",
              " 'conflict which resulted': 107,\n",
              " 'which resulted in': 549,\n",
              " 'resulted in ceasefire': 410,\n",
              " 'in ahmedabad modi': 219,\n",
              " 'ahmedabad modi renewed': 20,\n",
              " 'modi renewed his': 323,\n",
              " 'renewed his acquaintance': 408,\n",
              " 'his acquaintance with': 207,\n",
              " 'acquaintance with inamdar': 4,\n",
              " 'modi first known': 314,\n",
              " 'first known political': 153,\n",
              " 'known political activity': 283,\n",
              " 'political activity as': 385,\n",
              " 'activity as an': 8,\n",
              " 'as an adult': 56,\n",
              " 'an adult was': 25,\n",
              " 'adult was in': 15,\n",
              " 'was in when': 535,\n",
              " 'in when he': 243,\n",
              " 'when he joined': 544,\n",
              " 'he joined jana': 192,\n",
              " 'joined jana sangh': 278,\n",
              " 'jana sangh satyagraha': 276,\n",
              " 'sangh satyagraha in': 421,\n",
              " 'satyagraha in delhi': 423,\n",
              " 'in delhi led': 222,\n",
              " 'delhi led by': 123,\n",
              " 'led by atal': 288,\n",
              " 'by atal bihari': 92,\n",
              " 'atal bihari vajpayee': 64,\n",
              " 'bihari vajpayee to': 82,\n",
              " 'vajpayee to enlist': 526,\n",
              " 'to enlist to': 506,\n",
              " 'enlist to fight': 140,\n",
              " 'to fight in': 507,\n",
              " 'fight in the': 150,\n",
              " 'in the bangladesh': 235,\n",
              " 'the bangladesh liberation': 459,\n",
              " 'bangladesh liberation war': 72,\n",
              " 'the indira gandhi': 477,\n",
              " 'indira gandhi led': 257,\n",
              " 'gandhi led central': 171,\n",
              " 'led central government': 289,\n",
              " 'central government prohibited': 100,\n",
              " 'government prohibited open': 178,\n",
              " 'prohibited open support': 396,\n",
              " 'open support for': 361,\n",
              " 'support for the': 444,\n",
              " 'for the mukti': 159,\n",
              " 'the mukti bahini': 483,\n",
              " 'mukti bahini according': 329,\n",
              " 'bahini according to': 70,\n",
              " 'according to modi': 1,\n",
              " 'to modi he': 510,\n",
              " 'modi he was': 315,\n",
              " 'he was briefly': 196,\n",
              " 'was briefly held': 533,\n",
              " 'briefly held in': 89,\n",
              " 'held in tihar': 202,\n",
              " 'in tihar jail': 241,\n",
              " 'after the indo': 16,\n",
              " 'the indo pakistani': 478,\n",
              " 'indo pakistani war': 258,\n",
              " 'pakistani war of': 371,\n",
              " 'war of modi': 529,\n",
              " 'of modi left': 347,\n",
              " 'modi left his': 317,\n",
              " 'left his uncle': 293,\n",
              " 'his uncle employment': 216,\n",
              " 'uncle employment and': 523,\n",
              " 'employment and became': 138,\n",
              " 'and became full': 29,\n",
              " 'became full time': 74,\n",
              " 'full time pracharak': 169,\n",
              " 'time pracharak campaigner': 503,\n",
              " 'pracharak campaigner for': 389,\n",
              " 'campaigner for the': 98,\n",
              " 'for the rss': 161,\n",
              " 'the rss working': 491,\n",
              " 'rss working under': 419,\n",
              " 'working under inamdar': 558,\n",
              " 'shortly before the': 433,\n",
              " 'before the war': 79,\n",
              " 'the war modi': 495,\n",
              " 'war modi took': 528,\n",
              " 'modi took part': 324,\n",
              " 'took part in': 521,\n",
              " 'part in non': 377,\n",
              " 'in non violent': 231,\n",
              " 'non violent protest': 336,\n",
              " 'violent protest in': 527,\n",
              " 'protest in new': 399,\n",
              " 'in new delhi': 230,\n",
              " 'new delhi against': 334,\n",
              " 'delhi against the': 122,\n",
              " 'against the indian': 18,\n",
              " 'the indian government': 475,\n",
              " 'indian government for': 253,\n",
              " 'government for which': 176,\n",
              " 'for which he': 162,\n",
              " 'which he was': 547,\n",
              " 'he was arrested': 195,\n",
              " 'was arrested because': 531,\n",
              " 'arrested because of': 53,\n",
              " 'because of this': 75,\n",
              " 'of this arrest': 356,\n",
              " 'this arrest inamdar': 499,\n",
              " 'arrest inamdar decided': 52,\n",
              " 'inamdar decided to': 245,\n",
              " 'decided to mentor': 120,\n",
              " 'to mentor modi': 509,\n",
              " 'he was part': 198,\n",
              " 'was part of': 537,\n",
              " 'part of satyagraha': 378,\n",
              " 'of satyagraha that': 351,\n",
              " 'satyagraha that led': 424,\n",
              " 'that led to': 453,\n",
              " 'led to political': 291,\n",
              " 'to political war': 513,\n",
              " 'in modi received': 228,\n",
              " 'modi received bachelor': 322,\n",
              " 'received bachelor of': 404,\n",
              " 'bachelor of arts': 69,\n",
              " 'of arts ba': 337,\n",
              " 'arts ba degree': 54,\n",
              " 'ba degree in': 68,\n",
              " 'degree in political': 121,\n",
              " 'in political science': 233,\n",
              " 'political science from': 386,\n",
              " 'science from the': 427,\n",
              " 'from the school': 167,\n",
              " 'the school of': 492,\n",
              " 'school of open': 425,\n",
              " 'of open learning': 348,\n",
              " 'open learning at': 360,\n",
              " 'learning at the': 287,\n",
              " 'at the delhi': 63,\n",
              " 'the delhi university': 468,\n",
              " 'in he received': 225,\n",
              " 'he received master': 193,\n",
              " 'received master of': 405,\n",
              " 'master of arts': 303,\n",
              " 'of arts ma': 338,\n",
              " 'arts ma degree': 55,\n",
              " 'ma degree in': 299,\n",
              " 'science from gujarat': 426,\n",
              " 'from gujarat university': 166,\n",
              " 'gujarat university graduating': 184,\n",
              " 'university graduating with': 524,\n",
              " 'graduating with first': 179,\n",
              " 'with first class': 555,\n",
              " 'first class as': 151,\n",
              " 'class as an': 104,\n",
              " 'as an external': 57,\n",
              " 'an external distance': 27,\n",
              " 'external distance learning': 145,\n",
              " 'distance learning student': 128,\n",
              " 'there is controversy': 498,\n",
              " 'is controversy surrounding': 268,\n",
              " 'controversy surrounding the': 110,\n",
              " 'surrounding the authenticity': 446,\n",
              " 'the authenticity of': 457,\n",
              " 'authenticity of his': 66,\n",
              " 'of his ba': 343,\n",
              " 'his ba and': 212,\n",
              " 'ba and ma': 67,\n",
              " 'and ma degrees': 42}"
            ]
          },
          "metadata": {},
          "execution_count": 80
        }
      ]
    },
    {
      "cell_type": "code",
      "source": [
        "#if you see :\n",
        "corpus[0]"
      ],
      "metadata": {
        "colab": {
          "base_uri": "https://localhost:8080/",
          "height": 36
        },
        "id": "RxZqztUqVmV5",
        "outputId": "00ba43ac-4c06-43eb-ca4e-6ba278b7719b"
      },
      "execution_count": 81,
      "outputs": [
        {
          "output_type": "execute_result",
          "data": {
            "text/plain": [
              "' narendra damodardas modi a   born    september       is an indian politician who has served as the prime minister of india since      '"
            ],
            "application/vnd.google.colaboratory.intrinsic+json": {
              "type": "string"
            }
          },
          "metadata": {},
          "execution_count": 81
        }
      ]
    },
    {
      "cell_type": "code",
      "source": [
        "x[0].toarray()"
      ],
      "metadata": {
        "colab": {
          "base_uri": "https://localhost:8080/"
        },
        "id": "s7c7Xn2VVvFs",
        "outputId": "f7b3b4d9-69c8-472b-abf5-40fc6adcd96e"
      },
      "execution_count": 82,
      "outputs": [
        {
          "output_type": "execute_result",
          "data": {
            "text/plain": [
              "array([[0, 0, 0, 0, 0, 0, 0, 0, 0, 0, 0, 0, 0, 0, 0, 0, 0, 0, 0, 0, 0, 0,\n",
              "        0, 0, 0, 0, 0, 0, 1, 0, 0, 0, 0, 0, 0, 0, 0, 0, 0, 0, 0, 0, 0, 0,\n",
              "        0, 0, 0, 0, 0, 0, 0, 0, 0, 0, 0, 0, 0, 0, 0, 1, 0, 0, 0, 0, 0, 0,\n",
              "        0, 0, 0, 0, 0, 0, 0, 0, 0, 0, 0, 0, 0, 0, 0, 0, 0, 0, 0, 0, 0, 0,\n",
              "        1, 0, 0, 0, 0, 0, 0, 0, 0, 0, 0, 0, 0, 0, 0, 0, 0, 0, 0, 0, 0, 0,\n",
              "        0, 0, 0, 0, 0, 0, 0, 1, 0, 0, 0, 0, 0, 0, 0, 0, 0, 0, 0, 0, 0, 0,\n",
              "        0, 0, 0, 0, 0, 0, 0, 0, 0, 0, 0, 0, 0, 0, 0, 0, 0, 0, 0, 0, 0, 0,\n",
              "        0, 0, 0, 0, 0, 0, 0, 0, 0, 0, 0, 0, 0, 0, 0, 0, 0, 0, 0, 0, 0, 0,\n",
              "        0, 0, 0, 0, 0, 0, 0, 0, 0, 0, 0, 0, 1, 0, 0, 0, 0, 0, 0, 0, 0, 0,\n",
              "        0, 0, 0, 0, 0, 0, 0, 0, 0, 0, 0, 0, 0, 0, 0, 0, 0, 0, 0, 0, 0, 0,\n",
              "        0, 0, 0, 0, 0, 0, 0, 0, 0, 0, 0, 0, 0, 0, 0, 0, 0, 0, 0, 0, 0, 0,\n",
              "        0, 0, 0, 0, 0, 0, 0, 0, 0, 0, 0, 0, 0, 1, 0, 0, 0, 0, 0, 0, 0, 0,\n",
              "        0, 0, 1, 0, 0, 0, 0, 0, 0, 0, 0, 0, 0, 0, 0, 0, 0, 0, 0, 0, 0, 0,\n",
              "        0, 0, 0, 0, 0, 0, 0, 0, 0, 0, 0, 0, 0, 0, 0, 0, 0, 0, 0, 0, 0, 0,\n",
              "        1, 0, 0, 0, 0, 1, 0, 0, 0, 0, 0, 0, 0, 0, 0, 0, 0, 0, 0, 0, 0, 0,\n",
              "        0, 0, 1, 0, 0, 0, 0, 0, 0, 0, 0, 0, 0, 0, 0, 1, 0, 0, 0, 0, 0, 0,\n",
              "        0, 0, 0, 0, 0, 0, 0, 0, 0, 0, 0, 0, 0, 0, 0, 0, 0, 0, 0, 0, 0, 0,\n",
              "        0, 0, 0, 0, 0, 0, 0, 0, 0, 0, 0, 0, 0, 1, 0, 0, 0, 0, 1, 0, 0, 0,\n",
              "        0, 0, 0, 0, 0, 0, 0, 0, 0, 0, 0, 0, 0, 0, 0, 0, 0, 0, 0, 0, 0, 0,\n",
              "        0, 0, 0, 0, 0, 0, 0, 0, 0, 0, 0, 1, 1, 0, 0, 0, 0, 0, 0, 0, 0, 0,\n",
              "        0, 0, 0, 0, 0, 0, 0, 0, 0, 0, 0, 0, 0, 0, 0, 0, 0, 0, 0, 0, 0, 0,\n",
              "        0, 0, 0, 0, 0, 0, 0, 0, 0, 0, 0, 0, 0, 0, 0, 0, 0, 0, 0, 0, 0, 0,\n",
              "        0, 0, 0, 1, 0, 0, 0, 0, 0, 0, 0, 0, 0, 0, 0, 0, 0, 0, 0, 0, 0, 0,\n",
              "        0, 0, 0, 0, 0, 0, 0, 0, 0, 0, 0, 0, 0, 0, 0, 0, 0, 0, 0, 0, 0, 0,\n",
              "        0, 0, 0, 0, 0, 0, 0, 0, 0, 0, 0, 0, 0, 0, 0, 0, 0, 0, 0, 0, 0, 0,\n",
              "        0, 1, 0, 0, 0, 0, 0, 0, 0, 0]])"
            ]
          },
          "metadata": {},
          "execution_count": 82
        }
      ]
    },
    {
      "cell_type": "markdown",
      "source": [
        "###**TF-IDF->**"
      ],
      "metadata": {
        "id": "7HfRuj6TFmQx"
      }
    },
    {
      "cell_type": "code",
      "source": [
        "from sklearn.feature_extraction.text import TfidfVectorizer\n",
        "cv=TfidfVectorizer(ngram_range=(1,3) , max_features=3) # Top 3\n",
        "x=cv.fit_transform(corpus)"
      ],
      "metadata": {
        "id": "d22SMasTFu1M"
      },
      "execution_count": 120,
      "outputs": []
    },
    {
      "cell_type": "code",
      "source": [
        "# if i see :\n",
        "corpus[0]"
      ],
      "metadata": {
        "colab": {
          "base_uri": "https://localhost:8080/",
          "height": 36
        },
        "id": "uCOy4XB5Gcvi",
        "outputId": "1b305a23-dff2-4bba-a371-87ceddf26c56"
      },
      "execution_count": 121,
      "outputs": [
        {
          "output_type": "execute_result",
          "data": {
            "text/plain": [
              "' narendra damodardas modi a   born    september       is an indian politician who has served as the prime minister of india since      '"
            ],
            "application/vnd.google.colaboratory.intrinsic+json": {
              "type": "string"
            }
          },
          "metadata": {},
          "execution_count": 121
        }
      ]
    },
    {
      "cell_type": "code",
      "source": [
        "x[0].toarray()"
      ],
      "metadata": {
        "colab": {
          "base_uri": "https://localhost:8080/"
        },
        "id": "4VrZcdlWGgMw",
        "outputId": "a2ba6127-bfee-41a3-f874-ee637ef8dd44"
      },
      "execution_count": 122,
      "outputs": [
        {
          "output_type": "execute_result",
          "data": {
            "text/plain": [
              "array([[0.        , 0.79032787, 0.61268414]])"
            ]
          },
          "metadata": {},
          "execution_count": 122
        }
      ]
    }
  ]
}