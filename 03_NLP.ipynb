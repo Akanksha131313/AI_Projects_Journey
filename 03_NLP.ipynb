{
  "nbformat": 4,
  "nbformat_minor": 0,
  "metadata": {
    "colab": {
      "provenance": [],
      "authorship_tag": "ABX9TyNzjrTOb1iQvKPfCsYAp25i",
      "include_colab_link": true
    },
    "kernelspec": {
      "name": "python3",
      "display_name": "Python 3"
    },
    "language_info": {
      "name": "python"
    }
  },
  "cells": [
    {
      "cell_type": "markdown",
      "metadata": {
        "id": "view-in-github",
        "colab_type": "text"
      },
      "source": [
        "<a href=\"https://colab.research.google.com/github/Akanksha131313/AI_Projects_Journey/blob/main/03_NLP.ipynb\" target=\"_parent\"><img src=\"https://colab.research.google.com/assets/colab-badge.svg\" alt=\"Open In Colab\"/></a>"
      ]
    },
    {
      "cell_type": "markdown",
      "source": [
        "##**Practical Implementation of NLP-**"
      ],
      "metadata": {
        "id": "LeyEn4G0nFXk"
      }
    },
    {
      "cell_type": "code",
      "execution_count": 1,
      "metadata": {
        "colab": {
          "base_uri": "https://localhost:8080/"
        },
        "id": "FzIFIolDmtuh",
        "outputId": "54172334-406d-4742-d78d-91fc3006f5c8"
      },
      "outputs": [
        {
          "output_type": "stream",
          "name": "stdout",
          "text": [
            "Requirement already satisfied: Nltk in /usr/local/lib/python3.12/dist-packages (3.9.1)\n",
            "Requirement already satisfied: click in /usr/local/lib/python3.12/dist-packages (from Nltk) (8.3.0)\n",
            "Requirement already satisfied: joblib in /usr/local/lib/python3.12/dist-packages (from Nltk) (1.5.2)\n",
            "Requirement already satisfied: regex>=2021.8.3 in /usr/local/lib/python3.12/dist-packages (from Nltk) (2024.11.6)\n",
            "Requirement already satisfied: tqdm in /usr/local/lib/python3.12/dist-packages (from Nltk) (4.67.1)\n"
          ]
        }
      ],
      "source": [
        "!pip install Nltk"
      ]
    },
    {
      "cell_type": "code",
      "metadata": {
        "id": "f735c4a5"
      },
      "source": [
        "paragraph = \"\"\"\n",
        "Narendra Damodardas Modi[a] (born 17 September 1950) is an Indian politician who has served as the prime minister of India since 2014. Modi was the chief minister of Gujarat from 2001 to 2014 and is the member of parliament (MP) for Varanasi. He is a member of the Bharatiya Janata Party (BJP) and of the Rashtriya Swayamsevak Sangh (RSS), a right-wing Hindutva paramilitary volunteer organisation. He is the longest-serving prime minister outside the Indian National Congress.\n",
        "\n",
        "Modi was born and raised in Vadnagar, Bombay State (present-day Gujarat), where he completed his secondary education. He was introduced to the RSS at the age of eight, becoming a full-time worker for the organisation in Gujarat in 1971. The RSS assigned him to the BJP in 1985, and he rose through the party hierarchy, becoming general secretary in 1998.[b] In 2001, Modi was appointed chief minister of Gujarat and elected to the legislative assembly soon after. His administration is considered complicit in the 2002 Gujarat riots[c] and has been criticised for its management of the crisis. According to official records, a little over 1,000 people were killed, three-quarters of whom were Muslim; independent sources estimated 2,000 deaths, mostly Muslim.[4] A Special Investigation Team appointed by the Supreme Court of India in 2012 found no evidence to initiate prosecution proceedings against him.[d] While his policies as chief minister were credited for encouraging economic growth, his administration was criticised for failing to significantly improve health, poverty and education indices in the state.[e]\n",
        "In the 2014 Indian general election, Modi led the BJP to a parliamentary majority, the first for a party since 1984. His administration increased direct foreign investment and reduced spending on healthcare, education, and social-welfare programs. Modi began a high-profile sanitation campaign and weakened or abolished environmental and labour laws. His demonetisation of banknotes in 2016 and introduction of the Goods and Services Tax in 2017 sparked controversy. Modi's administration launched the 2019 Balakot airstrike against an alleged terrorist training camp in Pakistan; the airstrike failed,[5][6] but the action had nationalist appeal.[7] Modi's party won the 2019 general election which followed. In its second term, his administration revoked the special status of Jammu and Kashmir and introduced the Citizenship Amendment Act, prompting widespread protests and spurring the 2020 Delhi riots in which Muslims were brutalised and killed by Hindu mobs.[8][9][10] Three controversial farm laws led to sit-ins by farmers across the country, eventually causing their formal repeal. Modi oversaw India's response to the COVID-19 pandemic, during which, according to the World Health Organization, 4.7 million Indians died.[11][12] In the 2024 general election, Modi's party lost its majority in the lower house of Parliament and formed a government leading the National Democratic Alliance coalition. Following a terrorist attack in Indian-administered Jammu and Kashmir, Modi presided over the 2025 India–Pakistan conflict, which resulted in a ceasefire.\n",
        "\"\"\""
      ],
      "execution_count": 8,
      "outputs": []
    },
    {
      "cell_type": "code",
      "source": [
        "paragraph"
      ],
      "metadata": {
        "colab": {
          "base_uri": "https://localhost:8080/",
          "height": 123
        },
        "id": "0JqEyevMpxp8",
        "outputId": "abdd6f56-80e8-48ed-9d9a-22a51435f814"
      },
      "execution_count": 9,
      "outputs": [
        {
          "output_type": "execute_result",
          "data": {
            "text/plain": [
              "\"\\nNarendra Damodardas Modi[a] (born 17 September 1950) is an Indian politician who has served as the prime minister of India since 2014. Modi was the chief minister of Gujarat from 2001 to 2014 and is the member of parliament (MP) for Varanasi. He is a member of the Bharatiya Janata Party (BJP) and of the Rashtriya Swayamsevak Sangh (RSS), a right-wing Hindutva paramilitary volunteer organisation. He is the longest-serving prime minister outside the Indian National Congress.\\n\\nModi was born and raised in Vadnagar, Bombay State (present-day Gujarat), where he completed his secondary education. He was introduced to the RSS at the age of eight, becoming a full-time worker for the organisation in Gujarat in 1971. The RSS assigned him to the BJP in 1985, and he rose through the party hierarchy, becoming general secretary in 1998.[b] In 2001, Modi was appointed chief minister of Gujarat and elected to the legislative assembly soon after. His administration is considered complicit in the 2002 Gujarat riots[c] and has been criticised for its management of the crisis. According to official records, a little over 1,000 people were killed, three-quarters of whom were Muslim; independent sources estimated 2,000 deaths, mostly Muslim.[4] A Special Investigation Team appointed by the Supreme Court of India in 2012 found no evidence to initiate prosecution proceedings against him.[d] While his policies as chief minister were credited for encouraging economic growth, his administration was criticised for failing to significantly improve health, poverty and education indices in the state.[e]\\nIn the 2014 Indian general election, Modi led the BJP to a parliamentary majority, the first for a party since 1984. His administration increased direct foreign investment and reduced spending on healthcare, education, and social-welfare programs. Modi began a high-profile sanitation campaign and weakened or abolished environmental and labour laws. His demonetisation of banknotes in 2016 and introduction of the Goods and Services Tax in 2017 sparked controversy. Modi's administration launched the 2019 Balakot airstrike against an alleged terrorist training camp in Pakistan; the airstrike failed,[5][6] but the action had nationalist appeal.[7] Modi's party won the 2019 general election which followed. In its second term, his administration revoked the special status of Jammu and Kashmir and introduced the Citizenship Amendment Act, prompting widespread protests and spurring the 2020 Delhi riots in which Muslims were brutalised and killed by Hindu mobs.[8][9][10] Three controversial farm laws led to sit-ins by farmers across the country, eventually causing their formal repeal. Modi oversaw India's response to the COVID-19 pandemic, during which, according to the World Health Organization, 4.7 million Indians died.[11][12] In the 2024 general election, Modi's party lost its majority in the lower house of Parliament and formed a government leading the National Democratic Alliance coalition. Following a terrorist attack in Indian-administered Jammu and Kashmir, Modi presided over the 2025 India–Pakistan conflict, which resulted in a ceasefire.\\n\""
            ],
            "application/vnd.google.colaboratory.intrinsic+json": {
              "type": "string"
            }
          },
          "metadata": {},
          "execution_count": 9
        }
      ]
    },
    {
      "cell_type": "code",
      "source": [
        "import nltk\n",
        "from nltk.stem import PorterStemmer\n",
        "from nltk.corpus import stopwords"
      ],
      "metadata": {
        "id": "mqVa8rYlwC9R"
      },
      "execution_count": 10,
      "outputs": []
    },
    {
      "cell_type": "markdown",
      "source": [
        "### **Tokenization -**"
      ],
      "metadata": {
        "id": "NogB3-vU4o9d"
      }
    },
    {
      "cell_type": "code",
      "source": [
        "#Tokenization : convert paragraph into sentences > then focus on 'words'\n",
        "nltk.download('punkt')\n",
        "nltk.download('punkt_tab') # Download the punkt_tab resource\n",
        "sentences=nltk.sent_tokenize(paragraph)"
      ],
      "metadata": {
        "colab": {
          "base_uri": "https://localhost:8080/"
        },
        "id": "U63MjHfowcao",
        "outputId": "cede57e3-a070-4db5-b48b-266fae48f807"
      },
      "execution_count": 16,
      "outputs": [
        {
          "output_type": "stream",
          "name": "stderr",
          "text": [
            "[nltk_data] Downloading package punkt to /root/nltk_data...\n",
            "[nltk_data]   Package punkt is already up-to-date!\n",
            "[nltk_data] Downloading package punkt_tab to /root/nltk_data...\n",
            "[nltk_data]   Package punkt_tab is already up-to-date!\n"
          ]
        }
      ]
    },
    {
      "cell_type": "code",
      "source": [
        "print(sentences)"
      ],
      "metadata": {
        "colab": {
          "base_uri": "https://localhost:8080/"
        },
        "id": "o6HIX4HH1WQm",
        "outputId": "3dcd8d7d-8f2e-485a-d235-f6605ec73899"
      },
      "execution_count": 17,
      "outputs": [
        {
          "output_type": "stream",
          "name": "stdout",
          "text": [
            "['\\nNarendra Damodardas Modi[a] (born 17 September 1950) is an Indian politician who has served as the prime minister of India since 2014.', 'Modi was the chief minister of Gujarat from 2001 to 2014 and is the member of parliament (MP) for Varanasi.', 'He is a member of the Bharatiya Janata Party (BJP) and of the Rashtriya Swayamsevak Sangh (RSS), a right-wing Hindutva paramilitary volunteer organisation.', 'He is the longest-serving prime minister outside the Indian National Congress.', 'Modi was born and raised in Vadnagar, Bombay State (present-day Gujarat), where he completed his secondary education.', 'He was introduced to the RSS at the age of eight, becoming a full-time worker for the organisation in Gujarat in 1971.', 'The RSS assigned him to the BJP in 1985, and he rose through the party hierarchy, becoming general secretary in 1998.', '[b] In 2001, Modi was appointed chief minister of Gujarat and elected to the legislative assembly soon after.', 'His administration is considered complicit in the 2002 Gujarat riots[c] and has been criticised for its management of the crisis.', 'According to official records, a little over 1,000 people were killed, three-quarters of whom were Muslim; independent sources estimated 2,000 deaths, mostly Muslim.', '[4] A Special Investigation Team appointed by the Supreme Court of India in 2012 found no evidence to initiate prosecution proceedings against him.', '[d] While his policies as chief minister were credited for encouraging economic growth, his administration was criticised for failing to significantly improve health, poverty and education indices in the state.', '[e]\\nIn the 2014 Indian general election, Modi led the BJP to a parliamentary majority, the first for a party since 1984.', 'His administration increased direct foreign investment and reduced spending on healthcare, education, and social-welfare programs.', 'Modi began a high-profile sanitation campaign and weakened or abolished environmental and labour laws.', 'His demonetisation of banknotes in 2016 and introduction of the Goods and Services Tax in 2017 sparked controversy.', \"Modi's administration launched the 2019 Balakot airstrike against an alleged terrorist training camp in Pakistan; the airstrike failed,[5][6] but the action had nationalist appeal.\", \"[7] Modi's party won the 2019 general election which followed.\", 'In its second term, his administration revoked the special status of Jammu and Kashmir and introduced the Citizenship Amendment Act, prompting widespread protests and spurring the 2020 Delhi riots in which Muslims were brutalised and killed by Hindu mobs.', '[8][9][10] Three controversial farm laws led to sit-ins by farmers across the country, eventually causing their formal repeal.', \"Modi oversaw India's response to the COVID-19 pandemic, during which, according to the World Health Organization, 4.7 million Indians died.\", \"[11][12] In the 2024 general election, Modi's party lost its majority in the lower house of Parliament and formed a government leading the National Democratic Alliance coalition.\", 'Following a terrorist attack in Indian-administered Jammu and Kashmir, Modi presided over the 2025 India–Pakistan conflict, which resulted in a ceasefire.']\n"
          ]
        }
      ]
    },
    {
      "cell_type": "markdown",
      "source": [
        "### **Stemming -**"
      ],
      "metadata": {
        "id": "MycBNfUt4xXe"
      }
    },
    {
      "cell_type": "code",
      "source": [
        "stemmer=PorterStemmer()"
      ],
      "metadata": {
        "id": "50BXpnKq3WV7"
      },
      "execution_count": 23,
      "outputs": []
    },
    {
      "cell_type": "code",
      "source": [
        "stemmer.stem('going')"
      ],
      "metadata": {
        "colab": {
          "base_uri": "https://localhost:8080/",
          "height": 36
        },
        "id": "Qovx90d542pd",
        "outputId": "7606ad49-e2d9-49ec-b6d9-85d392cae3ef"
      },
      "execution_count": 24,
      "outputs": [
        {
          "output_type": "execute_result",
          "data": {
            "text/plain": [
              "'go'"
            ],
            "application/vnd.google.colaboratory.intrinsic+json": {
              "type": "string"
            }
          },
          "metadata": {},
          "execution_count": 24
        }
      ]
    },
    {
      "cell_type": "code",
      "source": [
        "stemmer.stem('history')"
      ],
      "metadata": {
        "colab": {
          "base_uri": "https://localhost:8080/",
          "height": 36
        },
        "id": "Pm1y85FW5HjQ",
        "outputId": "7f5abb70-8d6a-4834-e59b-b488ad2d205d"
      },
      "execution_count": 25,
      "outputs": [
        {
          "output_type": "execute_result",
          "data": {
            "text/plain": [
              "'histori'"
            ],
            "application/vnd.google.colaboratory.intrinsic+json": {
              "type": "string"
            }
          },
          "metadata": {},
          "execution_count": 25
        }
      ]
    },
    {
      "cell_type": "code",
      "source": [
        "stemmer.stem('finally')"
      ],
      "metadata": {
        "colab": {
          "base_uri": "https://localhost:8080/",
          "height": 36
        },
        "id": "52LLGMcS5KwR",
        "outputId": "9de770ae-7700-440a-b3fc-1444029efc57"
      },
      "execution_count": 22,
      "outputs": [
        {
          "output_type": "execute_result",
          "data": {
            "text/plain": [
              "'final'"
            ],
            "application/vnd.google.colaboratory.intrinsic+json": {
              "type": "string"
            }
          },
          "metadata": {},
          "execution_count": 22
        }
      ]
    },
    {
      "cell_type": "markdown",
      "source": [
        "###**Lemmatization -**"
      ],
      "metadata": {
        "id": "l2WZ1D8j8JWW"
      }
    },
    {
      "cell_type": "code",
      "source": [
        "nltk.download('wordnet')"
      ],
      "metadata": {
        "colab": {
          "base_uri": "https://localhost:8080/"
        },
        "id": "9xY-qZq6_-bb",
        "outputId": "48cca4d8-1393-4975-fffc-1d5523593dcb"
      },
      "execution_count": 37,
      "outputs": [
        {
          "output_type": "stream",
          "name": "stderr",
          "text": [
            "[nltk_data] Downloading package wordnet to /root/nltk_data...\n",
            "[nltk_data]   Package wordnet is already up-to-date!\n"
          ]
        },
        {
          "output_type": "execute_result",
          "data": {
            "text/plain": [
              "True"
            ]
          },
          "metadata": {},
          "execution_count": 37
        }
      ]
    },
    {
      "cell_type": "code",
      "source": [
        "from nltk.stem import WordNetLemmatizer"
      ],
      "metadata": {
        "id": "PLeuDw0Z8M2q"
      },
      "execution_count": 33,
      "outputs": []
    },
    {
      "cell_type": "code",
      "source": [
        "lemmatizer=WordNetLemmatizer()"
      ],
      "metadata": {
        "id": "BWIbXUIL-aDW"
      },
      "execution_count": 34,
      "outputs": []
    },
    {
      "cell_type": "code",
      "source": [
        "lemmatizer.lemmatize('going')"
      ],
      "metadata": {
        "colab": {
          "base_uri": "https://localhost:8080/",
          "height": 36
        },
        "id": "sC-EBY8FAdoo",
        "outputId": "c26b5b4d-1cae-4a42-c9fd-f29020bbb04e"
      },
      "execution_count": 40,
      "outputs": [
        {
          "output_type": "execute_result",
          "data": {
            "text/plain": [
              "'going'"
            ],
            "application/vnd.google.colaboratory.intrinsic+json": {
              "type": "string"
            }
          },
          "metadata": {},
          "execution_count": 40
        }
      ]
    },
    {
      "cell_type": "code",
      "source": [
        "lemmatizer.lemmatize('history')"
      ],
      "metadata": {
        "colab": {
          "base_uri": "https://localhost:8080/",
          "height": 36
        },
        "id": "lwTn-NzEASgy",
        "outputId": "8c25e56d-47d2-4441-f3e6-7b9d02582233"
      },
      "execution_count": 38,
      "outputs": [
        {
          "output_type": "execute_result",
          "data": {
            "text/plain": [
              "'history'"
            ],
            "application/vnd.google.colaboratory.intrinsic+json": {
              "type": "string"
            }
          },
          "metadata": {},
          "execution_count": 38
        }
      ]
    },
    {
      "cell_type": "code",
      "source": [
        "lemmatizer.lemmatize('finally')"
      ],
      "metadata": {
        "colab": {
          "base_uri": "https://localhost:8080/",
          "height": 36
        },
        "id": "ErYGImGIAW60",
        "outputId": "3ff13699-d5f3-46a9-c8e8-73083e417c50"
      },
      "execution_count": 39,
      "outputs": [
        {
          "output_type": "execute_result",
          "data": {
            "text/plain": [
              "'finally'"
            ],
            "application/vnd.google.colaboratory.intrinsic+json": {
              "type": "string"
            }
          },
          "metadata": {},
          "execution_count": 39
        }
      ]
    },
    {
      "cell_type": "markdown",
      "source": [
        "### **Clean the entire text - like special characters , new lines with symbols etc - Corpus :**"
      ],
      "metadata": {
        "id": "mMrgDoAIC2a3"
      }
    },
    {
      "cell_type": "code",
      "source": [
        "# Firstly see the length :\n",
        "len(sentences)"
      ],
      "metadata": {
        "colab": {
          "base_uri": "https://localhost:8080/"
        },
        "id": "g0-bB0-MEZmB",
        "outputId": "ac144941-968a-4b1e-f226-786f8a9d1999"
      },
      "execution_count": 41,
      "outputs": [
        {
          "output_type": "execute_result",
          "data": {
            "text/plain": [
              "23"
            ]
          },
          "metadata": {},
          "execution_count": 41
        }
      ]
    },
    {
      "cell_type": "code",
      "source": [
        "import re"
      ],
      "metadata": {
        "id": "TDFMNv58Iy7I"
      },
      "execution_count": 44,
      "outputs": []
    },
    {
      "cell_type": "code",
      "source": [
        "corpus=[]\n",
        "for i in range (len(sentences)) :\n",
        "  review=re.sub('[^a-zA-Z]',' ',sentences[i])\n",
        "  review=review.lower() # Convert this into lower case letter\n",
        "  corpus.append(review)"
      ],
      "metadata": {
        "id": "_lQlD9iwDJlO"
      },
      "execution_count": 45,
      "outputs": []
    },
    {
      "cell_type": "code",
      "source": [
        "corpus"
      ],
      "metadata": {
        "colab": {
          "base_uri": "https://localhost:8080/"
        },
        "id": "dqAQdITPI5V3",
        "outputId": "c9f8b51e-08a3-405b-b69b-3bec6e6b8a6a"
      },
      "execution_count": 46,
      "outputs": [
        {
          "output_type": "execute_result",
          "data": {
            "text/plain": [
              "[' narendra damodardas modi a   born    september       is an indian politician who has served as the prime minister of india since      ',\n",
              " 'modi was the chief minister of gujarat from      to      and is the member of parliament  mp  for varanasi ',\n",
              " 'he is a member of the bharatiya janata party  bjp  and of the rashtriya swayamsevak sangh  rss   a right wing hindutva paramilitary volunteer organisation ',\n",
              " 'he is the longest serving prime minister outside the indian national congress ',\n",
              " 'modi was born and raised in vadnagar  bombay state  present day gujarat   where he completed his secondary education ',\n",
              " 'he was introduced to the rss at the age of eight  becoming a full time worker for the organisation in gujarat in      ',\n",
              " 'the rss assigned him to the bjp in       and he rose through the party hierarchy  becoming general secretary in      ',\n",
              " ' b  in       modi was appointed chief minister of gujarat and elected to the legislative assembly soon after ',\n",
              " 'his administration is considered complicit in the      gujarat riots c  and has been criticised for its management of the crisis ',\n",
              " 'according to official records  a little over       people were killed  three quarters of whom were muslim  independent sources estimated       deaths  mostly muslim ',\n",
              " '    a special investigation team appointed by the supreme court of india in      found no evidence to initiate prosecution proceedings against him ',\n",
              " ' d  while his policies as chief minister were credited for encouraging economic growth  his administration was criticised for failing to significantly improve health  poverty and education indices in the state ',\n",
              " ' e  in the      indian general election  modi led the bjp to a parliamentary majority  the first for a party since      ',\n",
              " 'his administration increased direct foreign investment and reduced spending on healthcare  education  and social welfare programs ',\n",
              " 'modi began a high profile sanitation campaign and weakened or abolished environmental and labour laws ',\n",
              " 'his demonetisation of banknotes in      and introduction of the goods and services tax in      sparked controversy ',\n",
              " 'modi s administration launched the      balakot airstrike against an alleged terrorist training camp in pakistan  the airstrike failed        but the action had nationalist appeal ',\n",
              " '    modi s party won the      general election which followed ',\n",
              " 'in its second term  his administration revoked the special status of jammu and kashmir and introduced the citizenship amendment act  prompting widespread protests and spurring the      delhi riots in which muslims were brutalised and killed by hindu mobs ',\n",
              " '           three controversial farm laws led to sit ins by farmers across the country  eventually causing their formal repeal ',\n",
              " 'modi oversaw india s response to the covid    pandemic  during which  according to the world health organization      million indians died ',\n",
              " '         in the      general election  modi s party lost its majority in the lower house of parliament and formed a government leading the national democratic alliance coalition ',\n",
              " 'following a terrorist attack in indian administered jammu and kashmir  modi presided over the      india pakistan conflict  which resulted in a ceasefire ']"
            ]
          },
          "metadata": {},
          "execution_count": 46
        }
      ]
    },
    {
      "cell_type": "markdown",
      "source": [
        "### **Stemming on entire Corpus -**"
      ],
      "metadata": {
        "id": "ci8SZEEtJ7S5"
      }
    },
    {
      "cell_type": "code",
      "source": [
        "# Download stopwords\n",
        "import nltk\n",
        "from nltk.corpus import stopwords\n",
        "\n",
        "nltk.download('stopwords')"
      ],
      "metadata": {
        "colab": {
          "base_uri": "https://localhost:8080/"
        },
        "id": "NeZrhWhINjg3",
        "outputId": "9d2ed1a9-c9c4-4c42-851c-bb4de8600609"
      },
      "execution_count": 52,
      "outputs": [
        {
          "output_type": "stream",
          "name": "stderr",
          "text": [
            "[nltk_data] Downloading package stopwords to /root/nltk_data...\n",
            "[nltk_data]   Package stopwords is already up-to-date!\n"
          ]
        },
        {
          "output_type": "execute_result",
          "data": {
            "text/plain": [
              "True"
            ]
          },
          "metadata": {},
          "execution_count": 52
        }
      ]
    },
    {
      "cell_type": "code",
      "source": [
        "# First see i :\n",
        "for i in corpus:\n",
        "  print(i)"
      ],
      "metadata": {
        "colab": {
          "base_uri": "https://localhost:8080/"
        },
        "id": "2p2qE-zKN0ei",
        "outputId": "21a0ac52-707b-4db7-8830-4e5727d7c187"
      },
      "execution_count": 51,
      "outputs": [
        {
          "output_type": "stream",
          "name": "stdout",
          "text": [
            " narendra damodardas modi a   born    september       is an indian politician who has served as the prime minister of india since      \n",
            "modi was the chief minister of gujarat from      to      and is the member of parliament  mp  for varanasi \n",
            "he is a member of the bharatiya janata party  bjp  and of the rashtriya swayamsevak sangh  rss   a right wing hindutva paramilitary volunteer organisation \n",
            "he is the longest serving prime minister outside the indian national congress \n",
            "modi was born and raised in vadnagar  bombay state  present day gujarat   where he completed his secondary education \n",
            "he was introduced to the rss at the age of eight  becoming a full time worker for the organisation in gujarat in      \n",
            "the rss assigned him to the bjp in       and he rose through the party hierarchy  becoming general secretary in      \n",
            " b  in       modi was appointed chief minister of gujarat and elected to the legislative assembly soon after \n",
            "his administration is considered complicit in the      gujarat riots c  and has been criticised for its management of the crisis \n",
            "according to official records  a little over       people were killed  three quarters of whom were muslim  independent sources estimated       deaths  mostly muslim \n",
            "    a special investigation team appointed by the supreme court of india in      found no evidence to initiate prosecution proceedings against him \n",
            " d  while his policies as chief minister were credited for encouraging economic growth  his administration was criticised for failing to significantly improve health  poverty and education indices in the state \n",
            " e  in the      indian general election  modi led the bjp to a parliamentary majority  the first for a party since      \n",
            "his administration increased direct foreign investment and reduced spending on healthcare  education  and social welfare programs \n",
            "modi began a high profile sanitation campaign and weakened or abolished environmental and labour laws \n",
            "his demonetisation of banknotes in      and introduction of the goods and services tax in      sparked controversy \n",
            "modi s administration launched the      balakot airstrike against an alleged terrorist training camp in pakistan  the airstrike failed        but the action had nationalist appeal \n",
            "    modi s party won the      general election which followed \n",
            "in its second term  his administration revoked the special status of jammu and kashmir and introduced the citizenship amendment act  prompting widespread protests and spurring the      delhi riots in which muslims were brutalised and killed by hindu mobs \n",
            "           three controversial farm laws led to sit ins by farmers across the country  eventually causing their formal repeal \n",
            "modi oversaw india s response to the covid    pandemic  during which  according to the world health organization      million indians died \n",
            "         in the      general election  modi s party lost its majority in the lower house of parliament and formed a government leading the national democratic alliance coalition \n",
            "following a terrorist attack in indian administered jammu and kashmir  modi presided over the      india pakistan conflict  which resulted in a ceasefire \n"
          ]
        }
      ]
    },
    {
      "cell_type": "code",
      "source": [
        "for i in corpus :\n",
        "  words=nltk.word_tokenize(i)\n",
        "  for word in words :\n",
        "    if word not in set(stopwords.words('english')) :\n",
        "      print(stemmer.stem(word))"
      ],
      "metadata": {
        "colab": {
          "base_uri": "https://localhost:8080/"
        },
        "id": "SAW2mMegKAl9",
        "outputId": "7673d2b0-7efd-403a-9054-011b0394fafa"
      },
      "execution_count": 50,
      "outputs": [
        {
          "output_type": "stream",
          "name": "stdout",
          "text": [
            "narendra\n",
            "damodarda\n",
            "modi\n",
            "born\n",
            "septemb\n",
            "indian\n",
            "politician\n",
            "serv\n",
            "prime\n",
            "minist\n",
            "india\n",
            "sinc\n",
            "modi\n",
            "chief\n",
            "minist\n",
            "gujarat\n",
            "member\n",
            "parliament\n",
            "mp\n",
            "varanasi\n",
            "member\n",
            "bharatiya\n",
            "janata\n",
            "parti\n",
            "bjp\n",
            "rashtriya\n",
            "swayamsevak\n",
            "sangh\n",
            "rss\n",
            "right\n",
            "wing\n",
            "hindutva\n",
            "paramilitari\n",
            "volunt\n",
            "organis\n",
            "longest\n",
            "serv\n",
            "prime\n",
            "minist\n",
            "outsid\n",
            "indian\n",
            "nation\n",
            "congress\n",
            "modi\n",
            "born\n",
            "rais\n",
            "vadnagar\n",
            "bombay\n",
            "state\n",
            "present\n",
            "day\n",
            "gujarat\n",
            "complet\n",
            "secondari\n",
            "educ\n",
            "introduc\n",
            "rss\n",
            "age\n",
            "eight\n",
            "becom\n",
            "full\n",
            "time\n",
            "worker\n",
            "organis\n",
            "gujarat\n",
            "rss\n",
            "assign\n",
            "bjp\n",
            "rose\n",
            "parti\n",
            "hierarchi\n",
            "becom\n",
            "gener\n",
            "secretari\n",
            "b\n",
            "modi\n",
            "appoint\n",
            "chief\n",
            "minist\n",
            "gujarat\n",
            "elect\n",
            "legisl\n",
            "assembl\n",
            "soon\n",
            "administr\n",
            "consid\n",
            "complicit\n",
            "gujarat\n",
            "riot\n",
            "c\n",
            "criticis\n",
            "manag\n",
            "crisi\n",
            "accord\n",
            "offici\n",
            "record\n",
            "littl\n",
            "peopl\n",
            "kill\n",
            "three\n",
            "quarter\n",
            "muslim\n",
            "independ\n",
            "sourc\n",
            "estim\n",
            "death\n",
            "mostli\n",
            "muslim\n",
            "special\n",
            "investig\n",
            "team\n",
            "appoint\n",
            "suprem\n",
            "court\n",
            "india\n",
            "found\n",
            "evid\n",
            "initi\n",
            "prosecut\n",
            "proceed\n",
            "polici\n",
            "chief\n",
            "minist\n",
            "credit\n",
            "encourag\n",
            "econom\n",
            "growth\n",
            "administr\n",
            "criticis\n",
            "fail\n",
            "significantli\n",
            "improv\n",
            "health\n",
            "poverti\n",
            "educ\n",
            "indic\n",
            "state\n",
            "e\n",
            "indian\n",
            "gener\n",
            "elect\n",
            "modi\n",
            "led\n",
            "bjp\n",
            "parliamentari\n",
            "major\n",
            "first\n",
            "parti\n",
            "sinc\n",
            "administr\n",
            "increas\n",
            "direct\n",
            "foreign\n",
            "invest\n",
            "reduc\n",
            "spend\n",
            "healthcar\n",
            "educ\n",
            "social\n",
            "welfar\n",
            "program\n",
            "modi\n",
            "began\n",
            "high\n",
            "profil\n",
            "sanit\n",
            "campaign\n",
            "weaken\n",
            "abolish\n",
            "environment\n",
            "labour\n",
            "law\n",
            "demonetis\n",
            "banknot\n",
            "introduct\n",
            "good\n",
            "servic\n",
            "tax\n",
            "spark\n",
            "controversi\n",
            "modi\n",
            "administr\n",
            "launch\n",
            "balakot\n",
            "airstrik\n",
            "alleg\n",
            "terrorist\n",
            "train\n",
            "camp\n",
            "pakistan\n",
            "airstrik\n",
            "fail\n",
            "action\n",
            "nationalist\n",
            "appeal\n",
            "modi\n",
            "parti\n",
            "gener\n",
            "elect\n",
            "follow\n",
            "second\n",
            "term\n",
            "administr\n",
            "revok\n",
            "special\n",
            "statu\n",
            "jammu\n",
            "kashmir\n",
            "introduc\n",
            "citizenship\n",
            "amend\n",
            "act\n",
            "prompt\n",
            "widespread\n",
            "protest\n",
            "spur\n",
            "delhi\n",
            "riot\n",
            "muslim\n",
            "brutalis\n",
            "kill\n",
            "hindu\n",
            "mob\n",
            "three\n",
            "controversi\n",
            "farm\n",
            "law\n",
            "led\n",
            "sit\n",
            "in\n",
            "farmer\n",
            "across\n",
            "countri\n",
            "eventu\n",
            "caus\n",
            "formal\n",
            "repeal\n",
            "modi\n",
            "oversaw\n",
            "india\n",
            "respons\n",
            "covid\n",
            "pandem\n",
            "accord\n",
            "world\n",
            "health\n",
            "organ\n",
            "million\n",
            "indian\n",
            "die\n",
            "gener\n",
            "elect\n",
            "modi\n",
            "parti\n",
            "lost\n",
            "major\n",
            "lower\n",
            "hous\n",
            "parliament\n",
            "form\n",
            "govern\n",
            "lead\n",
            "nation\n",
            "democrat\n",
            "allianc\n",
            "coalit\n",
            "follow\n",
            "terrorist\n",
            "attack\n",
            "indian\n",
            "administ\n",
            "jammu\n",
            "kashmir\n",
            "modi\n",
            "presid\n",
            "india\n",
            "pakistan\n",
            "conflict\n",
            "result\n",
            "ceasefir\n"
          ]
        }
      ]
    },
    {
      "cell_type": "code",
      "source": [
        "# English Stopwords :\n",
        "stopwords.words('english')"
      ],
      "metadata": {
        "colab": {
          "base_uri": "https://localhost:8080/"
        },
        "id": "NXiT3q8hMxrp",
        "outputId": "a45dace8-26bf-482f-ba6e-c2726de0a5dd"
      },
      "execution_count": 53,
      "outputs": [
        {
          "output_type": "execute_result",
          "data": {
            "text/plain": [
              "['a',\n",
              " 'about',\n",
              " 'above',\n",
              " 'after',\n",
              " 'again',\n",
              " 'against',\n",
              " 'ain',\n",
              " 'all',\n",
              " 'am',\n",
              " 'an',\n",
              " 'and',\n",
              " 'any',\n",
              " 'are',\n",
              " 'aren',\n",
              " \"aren't\",\n",
              " 'as',\n",
              " 'at',\n",
              " 'be',\n",
              " 'because',\n",
              " 'been',\n",
              " 'before',\n",
              " 'being',\n",
              " 'below',\n",
              " 'between',\n",
              " 'both',\n",
              " 'but',\n",
              " 'by',\n",
              " 'can',\n",
              " 'couldn',\n",
              " \"couldn't\",\n",
              " 'd',\n",
              " 'did',\n",
              " 'didn',\n",
              " \"didn't\",\n",
              " 'do',\n",
              " 'does',\n",
              " 'doesn',\n",
              " \"doesn't\",\n",
              " 'doing',\n",
              " 'don',\n",
              " \"don't\",\n",
              " 'down',\n",
              " 'during',\n",
              " 'each',\n",
              " 'few',\n",
              " 'for',\n",
              " 'from',\n",
              " 'further',\n",
              " 'had',\n",
              " 'hadn',\n",
              " \"hadn't\",\n",
              " 'has',\n",
              " 'hasn',\n",
              " \"hasn't\",\n",
              " 'have',\n",
              " 'haven',\n",
              " \"haven't\",\n",
              " 'having',\n",
              " 'he',\n",
              " \"he'd\",\n",
              " \"he'll\",\n",
              " 'her',\n",
              " 'here',\n",
              " 'hers',\n",
              " 'herself',\n",
              " \"he's\",\n",
              " 'him',\n",
              " 'himself',\n",
              " 'his',\n",
              " 'how',\n",
              " 'i',\n",
              " \"i'd\",\n",
              " 'if',\n",
              " \"i'll\",\n",
              " \"i'm\",\n",
              " 'in',\n",
              " 'into',\n",
              " 'is',\n",
              " 'isn',\n",
              " \"isn't\",\n",
              " 'it',\n",
              " \"it'd\",\n",
              " \"it'll\",\n",
              " \"it's\",\n",
              " 'its',\n",
              " 'itself',\n",
              " \"i've\",\n",
              " 'just',\n",
              " 'll',\n",
              " 'm',\n",
              " 'ma',\n",
              " 'me',\n",
              " 'mightn',\n",
              " \"mightn't\",\n",
              " 'more',\n",
              " 'most',\n",
              " 'mustn',\n",
              " \"mustn't\",\n",
              " 'my',\n",
              " 'myself',\n",
              " 'needn',\n",
              " \"needn't\",\n",
              " 'no',\n",
              " 'nor',\n",
              " 'not',\n",
              " 'now',\n",
              " 'o',\n",
              " 'of',\n",
              " 'off',\n",
              " 'on',\n",
              " 'once',\n",
              " 'only',\n",
              " 'or',\n",
              " 'other',\n",
              " 'our',\n",
              " 'ours',\n",
              " 'ourselves',\n",
              " 'out',\n",
              " 'over',\n",
              " 'own',\n",
              " 're',\n",
              " 's',\n",
              " 'same',\n",
              " 'shan',\n",
              " \"shan't\",\n",
              " 'she',\n",
              " \"she'd\",\n",
              " \"she'll\",\n",
              " \"she's\",\n",
              " 'should',\n",
              " 'shouldn',\n",
              " \"shouldn't\",\n",
              " \"should've\",\n",
              " 'so',\n",
              " 'some',\n",
              " 'such',\n",
              " 't',\n",
              " 'than',\n",
              " 'that',\n",
              " \"that'll\",\n",
              " 'the',\n",
              " 'their',\n",
              " 'theirs',\n",
              " 'them',\n",
              " 'themselves',\n",
              " 'then',\n",
              " 'there',\n",
              " 'these',\n",
              " 'they',\n",
              " \"they'd\",\n",
              " \"they'll\",\n",
              " \"they're\",\n",
              " \"they've\",\n",
              " 'this',\n",
              " 'those',\n",
              " 'through',\n",
              " 'to',\n",
              " 'too',\n",
              " 'under',\n",
              " 'until',\n",
              " 'up',\n",
              " 've',\n",
              " 'very',\n",
              " 'was',\n",
              " 'wasn',\n",
              " \"wasn't\",\n",
              " 'we',\n",
              " \"we'd\",\n",
              " \"we'll\",\n",
              " \"we're\",\n",
              " 'were',\n",
              " 'weren',\n",
              " \"weren't\",\n",
              " \"we've\",\n",
              " 'what',\n",
              " 'when',\n",
              " 'where',\n",
              " 'which',\n",
              " 'while',\n",
              " 'who',\n",
              " 'whom',\n",
              " 'why',\n",
              " 'will',\n",
              " 'with',\n",
              " 'won',\n",
              " \"won't\",\n",
              " 'wouldn',\n",
              " \"wouldn't\",\n",
              " 'y',\n",
              " 'you',\n",
              " \"you'd\",\n",
              " \"you'll\",\n",
              " 'your',\n",
              " \"you're\",\n",
              " 'yours',\n",
              " 'yourself',\n",
              " 'yourselves',\n",
              " \"you've\"]"
            ]
          },
          "metadata": {},
          "execution_count": 53
        }
      ]
    },
    {
      "cell_type": "markdown",
      "source": [
        "###**Lemmatization on entire Corpus -**"
      ],
      "metadata": {
        "id": "WovBshLnRjEs"
      }
    },
    {
      "cell_type": "code",
      "source": [
        "for i in corpus :\n",
        "  words=nltk.word_tokenize(i)\n",
        "  for word in words :\n",
        "    if word not in set(stopwords.words('english')) :\n",
        "      print(lemmatizer.lemmatize(word))"
      ],
      "metadata": {
        "colab": {
          "base_uri": "https://localhost:8080/"
        },
        "id": "idsP6ml_RmhA",
        "outputId": "89dcdc35-35d8-4d5b-b56f-2ca84b8aa45c"
      },
      "execution_count": 54,
      "outputs": [
        {
          "output_type": "stream",
          "name": "stdout",
          "text": [
            "narendra\n",
            "damodardas\n",
            "modi\n",
            "born\n",
            "september\n",
            "indian\n",
            "politician\n",
            "served\n",
            "prime\n",
            "minister\n",
            "india\n",
            "since\n",
            "modi\n",
            "chief\n",
            "minister\n",
            "gujarat\n",
            "member\n",
            "parliament\n",
            "mp\n",
            "varanasi\n",
            "member\n",
            "bharatiya\n",
            "janata\n",
            "party\n",
            "bjp\n",
            "rashtriya\n",
            "swayamsevak\n",
            "sangh\n",
            "rss\n",
            "right\n",
            "wing\n",
            "hindutva\n",
            "paramilitary\n",
            "volunteer\n",
            "organisation\n",
            "longest\n",
            "serving\n",
            "prime\n",
            "minister\n",
            "outside\n",
            "indian\n",
            "national\n",
            "congress\n",
            "modi\n",
            "born\n",
            "raised\n",
            "vadnagar\n",
            "bombay\n",
            "state\n",
            "present\n",
            "day\n",
            "gujarat\n",
            "completed\n",
            "secondary\n",
            "education\n",
            "introduced\n",
            "rss\n",
            "age\n",
            "eight\n",
            "becoming\n",
            "full\n",
            "time\n",
            "worker\n",
            "organisation\n",
            "gujarat\n",
            "rss\n",
            "assigned\n",
            "bjp\n",
            "rose\n",
            "party\n",
            "hierarchy\n",
            "becoming\n",
            "general\n",
            "secretary\n",
            "b\n",
            "modi\n",
            "appointed\n",
            "chief\n",
            "minister\n",
            "gujarat\n",
            "elected\n",
            "legislative\n",
            "assembly\n",
            "soon\n",
            "administration\n",
            "considered\n",
            "complicit\n",
            "gujarat\n",
            "riot\n",
            "c\n",
            "criticised\n",
            "management\n",
            "crisis\n",
            "according\n",
            "official\n",
            "record\n",
            "little\n",
            "people\n",
            "killed\n",
            "three\n",
            "quarter\n",
            "muslim\n",
            "independent\n",
            "source\n",
            "estimated\n",
            "death\n",
            "mostly\n",
            "muslim\n",
            "special\n",
            "investigation\n",
            "team\n",
            "appointed\n",
            "supreme\n",
            "court\n",
            "india\n",
            "found\n",
            "evidence\n",
            "initiate\n",
            "prosecution\n",
            "proceeding\n",
            "policy\n",
            "chief\n",
            "minister\n",
            "credited\n",
            "encouraging\n",
            "economic\n",
            "growth\n",
            "administration\n",
            "criticised\n",
            "failing\n",
            "significantly\n",
            "improve\n",
            "health\n",
            "poverty\n",
            "education\n",
            "index\n",
            "state\n",
            "e\n",
            "indian\n",
            "general\n",
            "election\n",
            "modi\n",
            "led\n",
            "bjp\n",
            "parliamentary\n",
            "majority\n",
            "first\n",
            "party\n",
            "since\n",
            "administration\n",
            "increased\n",
            "direct\n",
            "foreign\n",
            "investment\n",
            "reduced\n",
            "spending\n",
            "healthcare\n",
            "education\n",
            "social\n",
            "welfare\n",
            "program\n",
            "modi\n",
            "began\n",
            "high\n",
            "profile\n",
            "sanitation\n",
            "campaign\n",
            "weakened\n",
            "abolished\n",
            "environmental\n",
            "labour\n",
            "law\n",
            "demonetisation\n",
            "banknote\n",
            "introduction\n",
            "good\n",
            "service\n",
            "tax\n",
            "sparked\n",
            "controversy\n",
            "modi\n",
            "administration\n",
            "launched\n",
            "balakot\n",
            "airstrike\n",
            "alleged\n",
            "terrorist\n",
            "training\n",
            "camp\n",
            "pakistan\n",
            "airstrike\n",
            "failed\n",
            "action\n",
            "nationalist\n",
            "appeal\n",
            "modi\n",
            "party\n",
            "general\n",
            "election\n",
            "followed\n",
            "second\n",
            "term\n",
            "administration\n",
            "revoked\n",
            "special\n",
            "status\n",
            "jammu\n",
            "kashmir\n",
            "introduced\n",
            "citizenship\n",
            "amendment\n",
            "act\n",
            "prompting\n",
            "widespread\n",
            "protest\n",
            "spurring\n",
            "delhi\n",
            "riot\n",
            "muslim\n",
            "brutalised\n",
            "killed\n",
            "hindu\n",
            "mob\n",
            "three\n",
            "controversial\n",
            "farm\n",
            "law\n",
            "led\n",
            "sit\n",
            "in\n",
            "farmer\n",
            "across\n",
            "country\n",
            "eventually\n",
            "causing\n",
            "formal\n",
            "repeal\n",
            "modi\n",
            "oversaw\n",
            "india\n",
            "response\n",
            "covid\n",
            "pandemic\n",
            "according\n",
            "world\n",
            "health\n",
            "organization\n",
            "million\n",
            "indian\n",
            "died\n",
            "general\n",
            "election\n",
            "modi\n",
            "party\n",
            "lost\n",
            "majority\n",
            "lower\n",
            "house\n",
            "parliament\n",
            "formed\n",
            "government\n",
            "leading\n",
            "national\n",
            "democratic\n",
            "alliance\n",
            "coalition\n",
            "following\n",
            "terrorist\n",
            "attack\n",
            "indian\n",
            "administered\n",
            "jammu\n",
            "kashmir\n",
            "modi\n",
            "presided\n",
            "india\n",
            "pakistan\n",
            "conflict\n",
            "resulted\n",
            "ceasefire\n"
          ]
        }
      ]
    },
    {
      "cell_type": "markdown",
      "source": [
        "##**Bag-of-Words ->**"
      ],
      "metadata": {
        "id": "iR05LRcNTCjR"
      }
    },
    {
      "cell_type": "code",
      "source": [
        "from sklearn.feature_extraction.text import CountVectorizer"
      ],
      "metadata": {
        "id": "Qn71PwTPTKIE"
      },
      "execution_count": 55,
      "outputs": []
    },
    {
      "cell_type": "code",
      "source": [
        "cv=CountVectorizer()"
      ],
      "metadata": {
        "id": "FExDpMq_VBLI"
      },
      "execution_count": 56,
      "outputs": []
    },
    {
      "cell_type": "code",
      "source": [
        "x = cv.fit_transform(corpus)  #theses are the idx or feature numbers"
      ],
      "metadata": {
        "id": "g-0_4ddmVHw5"
      },
      "execution_count": 61,
      "outputs": []
    },
    {
      "cell_type": "code",
      "source": [
        "cv.vocabulary_"
      ],
      "metadata": {
        "colab": {
          "base_uri": "https://localhost:8080/"
        },
        "id": "wlMnuPllVSH9",
        "outputId": "3329682a-86ae-41ee-e9f2-8166ea979645"
      },
      "execution_count": 58,
      "outputs": [
        {
          "output_type": "execute_result",
          "data": {
            "text/plain": [
              "{'narendra': 146,\n",
              " 'damodardas': 55,\n",
              " 'modi': 141,\n",
              " 'born': 31,\n",
              " 'september': 196,\n",
              " 'is': 119,\n",
              " 'an': 14,\n",
              " 'indian': 110,\n",
              " 'politician': 167,\n",
              " 'who': 235,\n",
              " 'has': 94,\n",
              " 'served': 197,\n",
              " 'as': 18,\n",
              " 'the': 218,\n",
              " 'prime': 171,\n",
              " 'minister': 139,\n",
              " 'of': 150,\n",
              " 'india': 109,\n",
              " 'since': 201,\n",
              " 'was': 228,\n",
              " 'chief': 39,\n",
              " 'gujarat': 92,\n",
              " 'from': 86,\n",
              " 'to': 223,\n",
              " 'and': 15,\n",
              " 'member': 137,\n",
              " 'parliament': 162,\n",
              " 'mp': 143,\n",
              " 'for': 81,\n",
              " 'varanasi': 226,\n",
              " 'he': 95,\n",
              " 'bharatiya': 28,\n",
              " 'janata': 122,\n",
              " 'party': 164,\n",
              " 'bjp': 29,\n",
              " 'rashtriya': 180,\n",
              " 'swayamsevak': 213,\n",
              " 'sangh': 191,\n",
              " 'rss': 190,\n",
              " 'right': 187,\n",
              " 'wing': 238,\n",
              " 'hindutva': 102,\n",
              " 'paramilitary': 161,\n",
              " 'volunteer': 227,\n",
              " 'organisation': 154,\n",
              " 'longest': 132,\n",
              " 'serving': 199,\n",
              " 'outside': 156,\n",
              " 'national': 147,\n",
              " 'congress': 45,\n",
              " 'raised': 179,\n",
              " 'in': 106,\n",
              " 'vadnagar': 225,\n",
              " 'bombay': 30,\n",
              " 'state': 210,\n",
              " 'present': 169,\n",
              " 'day': 56,\n",
              " 'where': 232,\n",
              " 'completed': 42,\n",
              " 'his': 103,\n",
              " 'secondary': 194,\n",
              " 'education': 65,\n",
              " 'introduced': 115,\n",
              " 'at': 21,\n",
              " 'age': 9,\n",
              " 'eight': 66,\n",
              " 'becoming': 25,\n",
              " 'full': 87,\n",
              " 'time': 222,\n",
              " 'worker': 240,\n",
              " 'assigned': 20,\n",
              " 'him': 100,\n",
              " 'rose': 189,\n",
              " 'through': 221,\n",
              " 'hierarchy': 98,\n",
              " 'general': 88,\n",
              " 'secretary': 195,\n",
              " 'appointed': 17,\n",
              " 'elected': 67,\n",
              " 'legislative': 130,\n",
              " 'assembly': 19,\n",
              " 'soon': 204,\n",
              " 'after': 7,\n",
              " 'administration': 6,\n",
              " 'considered': 46,\n",
              " 'complicit': 43,\n",
              " 'riots': 188,\n",
              " 'been': 26,\n",
              " 'criticised': 54,\n",
              " 'its': 120,\n",
              " 'management': 136,\n",
              " 'crisis': 53,\n",
              " 'according': 1,\n",
              " 'official': 151,\n",
              " 'records': 181,\n",
              " 'little': 131,\n",
              " 'over': 157,\n",
              " 'people': 165,\n",
              " 'were': 231,\n",
              " 'killed': 124,\n",
              " 'three': 220,\n",
              " 'quarters': 178,\n",
              " 'whom': 236,\n",
              " 'muslim': 144,\n",
              " 'independent': 108,\n",
              " 'sources': 205,\n",
              " 'estimated': 71,\n",
              " 'deaths': 57,\n",
              " 'mostly': 142,\n",
              " 'special': 207,\n",
              " 'investigation': 117,\n",
              " 'team': 215,\n",
              " 'by': 34,\n",
              " 'supreme': 212,\n",
              " 'court': 50,\n",
              " 'found': 85,\n",
              " 'no': 149,\n",
              " 'evidence': 73,\n",
              " 'initiate': 113,\n",
              " 'prosecution': 176,\n",
              " 'proceedings': 172,\n",
              " 'against': 8,\n",
              " 'while': 234,\n",
              " 'policies': 166,\n",
              " 'credited': 52,\n",
              " 'encouraging': 69,\n",
              " 'economic': 64,\n",
              " 'growth': 91,\n",
              " 'failing': 75,\n",
              " 'significantly': 200,\n",
              " 'improve': 105,\n",
              " 'health': 96,\n",
              " 'poverty': 168,\n",
              " 'indices': 112,\n",
              " 'election': 68,\n",
              " 'led': 129,\n",
              " 'parliamentary': 163,\n",
              " 'majority': 135,\n",
              " 'first': 78,\n",
              " 'increased': 107,\n",
              " 'direct': 62,\n",
              " 'foreign': 82,\n",
              " 'investment': 118,\n",
              " 'reduced': 182,\n",
              " 'spending': 208,\n",
              " 'on': 152,\n",
              " 'healthcare': 97,\n",
              " 'social': 203,\n",
              " 'welfare': 230,\n",
              " 'programs': 174,\n",
              " 'began': 27,\n",
              " 'high': 99,\n",
              " 'profile': 173,\n",
              " 'sanitation': 192,\n",
              " 'campaign': 36,\n",
              " 'weakened': 229,\n",
              " 'or': 153,\n",
              " 'abolished': 0,\n",
              " 'environmental': 70,\n",
              " 'labour': 125,\n",
              " 'laws': 127,\n",
              " 'demonetisation': 60,\n",
              " 'banknotes': 24,\n",
              " 'introduction': 116,\n",
              " 'goods': 89,\n",
              " 'services': 198,\n",
              " 'tax': 214,\n",
              " 'sparked': 206,\n",
              " 'controversy': 48,\n",
              " 'launched': 126,\n",
              " 'balakot': 23,\n",
              " 'airstrike': 10,\n",
              " 'alleged': 11,\n",
              " 'terrorist': 217,\n",
              " 'training': 224,\n",
              " 'camp': 35,\n",
              " 'pakistan': 159,\n",
              " 'failed': 74,\n",
              " 'but': 33,\n",
              " 'action': 4,\n",
              " 'had': 93,\n",
              " 'nationalist': 148,\n",
              " 'appeal': 16,\n",
              " 'won': 239,\n",
              " 'which': 233,\n",
              " 'followed': 79,\n",
              " 'second': 193,\n",
              " 'term': 216,\n",
              " 'revoked': 186,\n",
              " 'status': 211,\n",
              " 'jammu': 121,\n",
              " 'kashmir': 123,\n",
              " 'citizenship': 40,\n",
              " 'amendment': 13,\n",
              " 'act': 3,\n",
              " 'prompting': 175,\n",
              " 'widespread': 237,\n",
              " 'protests': 177,\n",
              " 'spurring': 209,\n",
              " 'delhi': 58,\n",
              " 'muslims': 145,\n",
              " 'brutalised': 32,\n",
              " 'hindu': 101,\n",
              " 'mobs': 140,\n",
              " 'controversial': 47,\n",
              " 'farm': 76,\n",
              " 'sit': 202,\n",
              " 'ins': 114,\n",
              " 'farmers': 77,\n",
              " 'across': 2,\n",
              " 'country': 49,\n",
              " 'eventually': 72,\n",
              " 'causing': 37,\n",
              " 'their': 219,\n",
              " 'formal': 83,\n",
              " 'repeal': 183,\n",
              " 'oversaw': 158,\n",
              " 'response': 184,\n",
              " 'covid': 51,\n",
              " 'pandemic': 160,\n",
              " 'during': 63,\n",
              " 'world': 241,\n",
              " 'organization': 155,\n",
              " 'million': 138,\n",
              " 'indians': 111,\n",
              " 'died': 61,\n",
              " 'lost': 133,\n",
              " 'lower': 134,\n",
              " 'house': 104,\n",
              " 'formed': 84,\n",
              " 'government': 90,\n",
              " 'leading': 128,\n",
              " 'democratic': 59,\n",
              " 'alliance': 12,\n",
              " 'coalition': 41,\n",
              " 'following': 80,\n",
              " 'attack': 22,\n",
              " 'administered': 5,\n",
              " 'presided': 170,\n",
              " 'conflict': 44,\n",
              " 'resulted': 185,\n",
              " 'ceasefire': 38}"
            ]
          },
          "metadata": {},
          "execution_count": 58
        }
      ]
    },
    {
      "cell_type": "code",
      "source": [
        "#if you see :\n",
        "corpus[0]"
      ],
      "metadata": {
        "colab": {
          "base_uri": "https://localhost:8080/",
          "height": 36
        },
        "id": "RxZqztUqVmV5",
        "outputId": "1fd2d6f8-a1cf-4c34-84df-75bcf83190a8"
      },
      "execution_count": 59,
      "outputs": [
        {
          "output_type": "execute_result",
          "data": {
            "text/plain": [
              "' narendra damodardas modi a   born    september       is an indian politician who has served as the prime minister of india since      '"
            ],
            "application/vnd.google.colaboratory.intrinsic+json": {
              "type": "string"
            }
          },
          "metadata": {},
          "execution_count": 59
        }
      ]
    },
    {
      "cell_type": "code",
      "source": [
        "x[0].toarray()"
      ],
      "metadata": {
        "colab": {
          "base_uri": "https://localhost:8080/"
        },
        "id": "s7c7Xn2VVvFs",
        "outputId": "8b74f56e-01c4-4a43-fe71-cda1b618b78c"
      },
      "execution_count": 60,
      "outputs": [
        {
          "output_type": "execute_result",
          "data": {
            "text/plain": [
              "array([[0, 0, 0, 0, 0, 0, 0, 0, 0, 0, 0, 0, 0, 0, 1, 0, 0, 0, 1, 0, 0, 0,\n",
              "        0, 0, 0, 0, 0, 0, 0, 0, 0, 1, 0, 0, 0, 0, 0, 0, 0, 0, 0, 0, 0, 0,\n",
              "        0, 0, 0, 0, 0, 0, 0, 0, 0, 0, 0, 1, 0, 0, 0, 0, 0, 0, 0, 0, 0, 0,\n",
              "        0, 0, 0, 0, 0, 0, 0, 0, 0, 0, 0, 0, 0, 0, 0, 0, 0, 0, 0, 0, 0, 0,\n",
              "        0, 0, 0, 0, 0, 0, 1, 0, 0, 0, 0, 0, 0, 0, 0, 0, 0, 0, 0, 0, 0, 1,\n",
              "        1, 0, 0, 0, 0, 0, 0, 0, 0, 1, 0, 0, 0, 0, 0, 0, 0, 0, 0, 0, 0, 0,\n",
              "        0, 0, 0, 0, 0, 0, 0, 1, 0, 1, 0, 0, 0, 0, 1, 0, 0, 0, 1, 0, 0, 0,\n",
              "        0, 0, 0, 0, 0, 0, 0, 0, 0, 0, 0, 0, 0, 1, 0, 0, 0, 1, 0, 0, 0, 0,\n",
              "        0, 0, 0, 0, 0, 0, 0, 0, 0, 0, 0, 0, 0, 0, 0, 0, 0, 0, 0, 0, 1, 1,\n",
              "        0, 0, 0, 1, 0, 0, 0, 0, 0, 0, 0, 0, 0, 0, 0, 0, 0, 0, 0, 0, 1, 0,\n",
              "        0, 0, 0, 0, 0, 0, 0, 0, 0, 0, 0, 0, 0, 0, 0, 1, 0, 0, 0, 0, 0, 0]])"
            ]
          },
          "metadata": {},
          "execution_count": 60
        }
      ]
    }
  ]
}