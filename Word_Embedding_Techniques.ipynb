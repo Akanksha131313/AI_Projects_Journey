{
  "nbformat": 4,
  "nbformat_minor": 0,
  "metadata": {
    "colab": {
      "provenance": [],
      "authorship_tag": "ABX9TyMlvfuSbxPQ4dzOEiV8a9K3",
      "include_colab_link": true
    },
    "kernelspec": {
      "name": "python3",
      "display_name": "Python 3"
    },
    "language_info": {
      "name": "python"
    }
  },
  "cells": [
    {
      "cell_type": "markdown",
      "metadata": {
        "id": "view-in-github",
        "colab_type": "text"
      },
      "source": [
        "<a href=\"https://colab.research.google.com/github/Akanksha131313/AI_Projects_Journey/blob/main/Word_Embedding_Techniques.ipynb\" target=\"_parent\"><img src=\"https://colab.research.google.com/assets/colab-badge.svg\" alt=\"Open In Colab\"/></a>"
      ]
    },
    {
      "cell_type": "markdown",
      "source": [
        "##**Word Embedding Techniques using Embedding Layer in Keras -**"
      ],
      "metadata": {
        "id": "u1z41o-I4CYA"
      }
    },
    {
      "cell_type": "code",
      "source": [
        "### Libraries USed Tensorflow> 2.0  and keras\n",
        "!pip install Tensorflow"
      ],
      "metadata": {
        "colab": {
          "base_uri": "https://localhost:8080/"
        },
        "id": "Tt-wcZEA4GZb",
        "outputId": "856768ff-0830-4c1c-c0ab-ebc9911c6c7b"
      },
      "execution_count": 47,
      "outputs": [
        {
          "output_type": "stream",
          "name": "stdout",
          "text": [
            "Requirement already satisfied: Tensorflow in /usr/local/lib/python3.12/dist-packages (2.19.0)\n",
            "Requirement already satisfied: absl-py>=1.0.0 in /usr/local/lib/python3.12/dist-packages (from Tensorflow) (1.4.0)\n",
            "Requirement already satisfied: astunparse>=1.6.0 in /usr/local/lib/python3.12/dist-packages (from Tensorflow) (1.6.3)\n",
            "Requirement already satisfied: flatbuffers>=24.3.25 in /usr/local/lib/python3.12/dist-packages (from Tensorflow) (25.9.23)\n",
            "Requirement already satisfied: gast!=0.5.0,!=0.5.1,!=0.5.2,>=0.2.1 in /usr/local/lib/python3.12/dist-packages (from Tensorflow) (0.6.0)\n",
            "Requirement already satisfied: google-pasta>=0.1.1 in /usr/local/lib/python3.12/dist-packages (from Tensorflow) (0.2.0)\n",
            "Requirement already satisfied: libclang>=13.0.0 in /usr/local/lib/python3.12/dist-packages (from Tensorflow) (18.1.1)\n",
            "Requirement already satisfied: opt-einsum>=2.3.2 in /usr/local/lib/python3.12/dist-packages (from Tensorflow) (3.4.0)\n",
            "Requirement already satisfied: packaging in /usr/local/lib/python3.12/dist-packages (from Tensorflow) (25.0)\n",
            "Requirement already satisfied: protobuf!=4.21.0,!=4.21.1,!=4.21.2,!=4.21.3,!=4.21.4,!=4.21.5,<6.0.0dev,>=3.20.3 in /usr/local/lib/python3.12/dist-packages (from Tensorflow) (5.29.5)\n",
            "Requirement already satisfied: requests<3,>=2.21.0 in /usr/local/lib/python3.12/dist-packages (from Tensorflow) (2.32.4)\n",
            "Requirement already satisfied: setuptools in /usr/local/lib/python3.12/dist-packages (from Tensorflow) (75.2.0)\n",
            "Requirement already satisfied: six>=1.12.0 in /usr/local/lib/python3.12/dist-packages (from Tensorflow) (1.17.0)\n",
            "Requirement already satisfied: termcolor>=1.1.0 in /usr/local/lib/python3.12/dist-packages (from Tensorflow) (3.1.0)\n",
            "Requirement already satisfied: typing-extensions>=3.6.6 in /usr/local/lib/python3.12/dist-packages (from Tensorflow) (4.15.0)\n",
            "Requirement already satisfied: wrapt>=1.11.0 in /usr/local/lib/python3.12/dist-packages (from Tensorflow) (1.17.3)\n",
            "Requirement already satisfied: grpcio<2.0,>=1.24.3 in /usr/local/lib/python3.12/dist-packages (from Tensorflow) (1.75.1)\n",
            "Requirement already satisfied: tensorboard~=2.19.0 in /usr/local/lib/python3.12/dist-packages (from Tensorflow) (2.19.0)\n",
            "Requirement already satisfied: keras>=3.5.0 in /usr/local/lib/python3.12/dist-packages (from Tensorflow) (3.10.0)\n",
            "Requirement already satisfied: numpy<2.2.0,>=1.26.0 in /usr/local/lib/python3.12/dist-packages (from Tensorflow) (2.0.2)\n",
            "Requirement already satisfied: h5py>=3.11.0 in /usr/local/lib/python3.12/dist-packages (from Tensorflow) (3.15.0)\n",
            "Requirement already satisfied: ml-dtypes<1.0.0,>=0.5.1 in /usr/local/lib/python3.12/dist-packages (from Tensorflow) (0.5.3)\n",
            "Requirement already satisfied: wheel<1.0,>=0.23.0 in /usr/local/lib/python3.12/dist-packages (from astunparse>=1.6.0->Tensorflow) (0.45.1)\n",
            "Requirement already satisfied: rich in /usr/local/lib/python3.12/dist-packages (from keras>=3.5.0->Tensorflow) (13.9.4)\n",
            "Requirement already satisfied: namex in /usr/local/lib/python3.12/dist-packages (from keras>=3.5.0->Tensorflow) (0.1.0)\n",
            "Requirement already satisfied: optree in /usr/local/lib/python3.12/dist-packages (from keras>=3.5.0->Tensorflow) (0.17.0)\n",
            "Requirement already satisfied: charset_normalizer<4,>=2 in /usr/local/lib/python3.12/dist-packages (from requests<3,>=2.21.0->Tensorflow) (3.4.4)\n",
            "Requirement already satisfied: idna<4,>=2.5 in /usr/local/lib/python3.12/dist-packages (from requests<3,>=2.21.0->Tensorflow) (3.11)\n",
            "Requirement already satisfied: urllib3<3,>=1.21.1 in /usr/local/lib/python3.12/dist-packages (from requests<3,>=2.21.0->Tensorflow) (2.5.0)\n",
            "Requirement already satisfied: certifi>=2017.4.17 in /usr/local/lib/python3.12/dist-packages (from requests<3,>=2.21.0->Tensorflow) (2025.10.5)\n",
            "Requirement already satisfied: markdown>=2.6.8 in /usr/local/lib/python3.12/dist-packages (from tensorboard~=2.19.0->Tensorflow) (3.9)\n",
            "Requirement already satisfied: tensorboard-data-server<0.8.0,>=0.7.0 in /usr/local/lib/python3.12/dist-packages (from tensorboard~=2.19.0->Tensorflow) (0.7.2)\n",
            "Requirement already satisfied: werkzeug>=1.0.1 in /usr/local/lib/python3.12/dist-packages (from tensorboard~=2.19.0->Tensorflow) (3.1.3)\n",
            "Requirement already satisfied: MarkupSafe>=2.1.1 in /usr/local/lib/python3.12/dist-packages (from werkzeug>=1.0.1->tensorboard~=2.19.0->Tensorflow) (3.0.3)\n",
            "Requirement already satisfied: markdown-it-py>=2.2.0 in /usr/local/lib/python3.12/dist-packages (from rich->keras>=3.5.0->Tensorflow) (4.0.0)\n",
            "Requirement already satisfied: pygments<3.0.0,>=2.13.0 in /usr/local/lib/python3.12/dist-packages (from rich->keras>=3.5.0->Tensorflow) (2.19.2)\n",
            "Requirement already satisfied: mdurl~=0.1 in /usr/local/lib/python3.12/dist-packages (from markdown-it-py>=2.2.0->rich->keras>=3.5.0->Tensorflow) (0.1.2)\n"
          ]
        }
      ]
    },
    {
      "cell_type": "code",
      "source": [
        "import tensorflow as tf\n",
        "print(tf.__version__)"
      ],
      "metadata": {
        "colab": {
          "base_uri": "https://localhost:8080/"
        },
        "id": "9BLQNjaM4OC4",
        "outputId": "92e8c373-977e-4e55-a7db-b781e352e34b"
      },
      "execution_count": 48,
      "outputs": [
        {
          "output_type": "stream",
          "name": "stdout",
          "text": [
            "2.19.0\n"
          ]
        }
      ]
    },
    {
      "cell_type": "markdown",
      "source": [
        "###**One-hot Encoding ->**"
      ],
      "metadata": {
        "id": "0uRdDqeK4_z0"
      }
    },
    {
      "cell_type": "code",
      "source": [
        "##tensorflow >2.0\n",
        "from tensorflow.keras.preprocessing.text import one_hot"
      ],
      "metadata": {
        "id": "vDdpbGCz4pIr"
      },
      "execution_count": 49,
      "outputs": []
    },
    {
      "cell_type": "code",
      "source": [
        "### sentences\n",
        "sent=[ 'the glass of milk',\n",
        "     'the glass of juice',\n",
        "     'the cup of tea',\n",
        "    'I am a good boy',\n",
        "     'I am a good developer',\n",
        "     'understand the meaning of words',\n",
        "     'your videos are good']"
      ],
      "metadata": {
        "id": "jbnkoRUe5Isd"
      },
      "execution_count": 50,
      "outputs": []
    },
    {
      "cell_type": "code",
      "source": [
        "sent"
      ],
      "metadata": {
        "colab": {
          "base_uri": "https://localhost:8080/"
        },
        "id": "Y0PAHyGv5MrE",
        "outputId": "9ac1222c-dd59-4e9d-ec4c-ca5fb4378511"
      },
      "execution_count": 51,
      "outputs": [
        {
          "output_type": "execute_result",
          "data": {
            "text/plain": [
              "['the glass of milk',\n",
              " 'the glass of juice',\n",
              " 'the cup of tea',\n",
              " 'I am a good boy',\n",
              " 'I am a good developer',\n",
              " 'understand the meaning of words',\n",
              " 'your videos are good']"
            ]
          },
          "metadata": {},
          "execution_count": 51
        }
      ]
    },
    {
      "cell_type": "code",
      "source": [
        "### Vocabulary size\n",
        "voc_size=500"
      ],
      "metadata": {
        "id": "2KEuSfYZ5O-S"
      },
      "execution_count": 52,
      "outputs": []
    },
    {
      "cell_type": "markdown",
      "source": [
        "### **One Hot Representation -**"
      ],
      "metadata": {
        "id": "SHQCTbxq5zD7"
      }
    },
    {
      "cell_type": "code",
      "source": [
        "onehot_repr=[one_hot(words,voc_size)for words in sent]\n",
        "print(onehot_repr)"
      ],
      "metadata": {
        "colab": {
          "base_uri": "https://localhost:8080/"
        },
        "id": "pAJhM8L_5O61",
        "outputId": "03b2c2a3-e001-4a10-e413-b10fdea684d3"
      },
      "execution_count": 53,
      "outputs": [
        {
          "output_type": "stream",
          "name": "stdout",
          "text": [
            "[[107, 121, 454, 406], [107, 121, 454, 414], [107, 306, 454, 153], [398, 241, 50, 1, 329], [398, 241, 50, 1, 248], [331, 107, 64, 454, 369], [6, 433, 16, 1]]\n"
          ]
        }
      ]
    },
    {
      "cell_type": "markdown",
      "source": [
        "### **Word Embedding Represntation -**"
      ],
      "metadata": {
        "id": "WpY2MnUN7Rcx"
      }
    },
    {
      "cell_type": "code",
      "source": [
        "from tensorflow.keras.layers import Embedding\n",
        "from tensorflow.keras.preprocessing.sequence import pad_sequences\n",
        "from tensorflow.keras.models import Sequential"
      ],
      "metadata": {
        "id": "L8ovivOp5O4A"
      },
      "execution_count": 54,
      "outputs": []
    },
    {
      "cell_type": "code",
      "source": [
        "import numpy as np"
      ],
      "metadata": {
        "id": "P0nadphw5O1L"
      },
      "execution_count": 55,
      "outputs": []
    },
    {
      "cell_type": "code",
      "source": [
        "## pre padding\n",
        "sent_length=8\n",
        "embedded_docs=pad_sequences(onehot_repr,padding='pre',maxlen=sent_length)\n",
        "print(embedded_docs)"
      ],
      "metadata": {
        "colab": {
          "base_uri": "https://localhost:8080/"
        },
        "id": "YWclvi3O5OyH",
        "outputId": "019f171a-c8f2-4728-b61a-493ffe3bdadc"
      },
      "execution_count": 56,
      "outputs": [
        {
          "output_type": "stream",
          "name": "stdout",
          "text": [
            "[[  0   0   0   0 107 121 454 406]\n",
            " [  0   0   0   0 107 121 454 414]\n",
            " [  0   0   0   0 107 306 454 153]\n",
            " [  0   0   0 398 241  50   1 329]\n",
            " [  0   0   0 398 241  50   1 248]\n",
            " [  0   0   0 331 107  64 454 369]\n",
            " [  0   0   0   0   6 433  16   1]]\n"
          ]
        }
      ]
    },
    {
      "cell_type": "code",
      "source": [
        "# My Feature Representaion / Feature Dimension  -\n",
        "dim=10"
      ],
      "metadata": {
        "id": "gb3A2Fqz5Ov0"
      },
      "execution_count": 57,
      "outputs": []
    },
    {
      "cell_type": "code",
      "source": [
        "model=Sequential()\n",
        "model.add(Embedding(input_dim=voc_size, output_dim=10, input_shape=(sent_length,))) #here , our sent_length is 8.\n",
        "model.compile('adam','mse')"
      ],
      "metadata": {
        "id": "oldhfPXd5Osn"
      },
      "execution_count": 58,
      "outputs": []
    },
    {
      "cell_type": "code",
      "source": [
        "model.summary()"
      ],
      "metadata": {
        "colab": {
          "base_uri": "https://localhost:8080/",
          "height": 161
        },
        "id": "5obEYOK_9Y2P",
        "outputId": "ad6fb3aa-3ffc-4b8a-9448-56d7108aa19d"
      },
      "execution_count": 59,
      "outputs": [
        {
          "output_type": "display_data",
          "data": {
            "text/plain": [
              "\u001b[1mModel: \"sequential_6\"\u001b[0m\n"
            ],
            "text/html": [
              "<pre style=\"white-space:pre;overflow-x:auto;line-height:normal;font-family:Menlo,'DejaVu Sans Mono',consolas,'Courier New',monospace\"><span style=\"font-weight: bold\">Model: \"sequential_6\"</span>\n",
              "</pre>\n"
            ]
          },
          "metadata": {}
        },
        {
          "output_type": "display_data",
          "data": {
            "text/plain": [
              "┏━━━━━━━━━━━━━━━━━━━━━━━━━━━━━━━━━┳━━━━━━━━━━━━━━━━━━━━━━━━┳━━━━━━━━━━━━━━━┓\n",
              "┃\u001b[1m \u001b[0m\u001b[1mLayer (type)                   \u001b[0m\u001b[1m \u001b[0m┃\u001b[1m \u001b[0m\u001b[1mOutput Shape          \u001b[0m\u001b[1m \u001b[0m┃\u001b[1m \u001b[0m\u001b[1m      Param #\u001b[0m\u001b[1m \u001b[0m┃\n",
              "┡━━━━━━━━━━━━━━━━━━━━━━━━━━━━━━━━━╇━━━━━━━━━━━━━━━━━━━━━━━━╇━━━━━━━━━━━━━━━┩\n",
              "│ embedding_6 (\u001b[38;5;33mEmbedding\u001b[0m)         │ (\u001b[38;5;45mNone\u001b[0m, \u001b[38;5;34m8\u001b[0m, \u001b[38;5;34m10\u001b[0m)          │         \u001b[38;5;34m5,000\u001b[0m │\n",
              "└─────────────────────────────────┴────────────────────────┴───────────────┘\n"
            ],
            "text/html": [
              "<pre style=\"white-space:pre;overflow-x:auto;line-height:normal;font-family:Menlo,'DejaVu Sans Mono',consolas,'Courier New',monospace\">┏━━━━━━━━━━━━━━━━━━━━━━━━━━━━━━━━━┳━━━━━━━━━━━━━━━━━━━━━━━━┳━━━━━━━━━━━━━━━┓\n",
              "┃<span style=\"font-weight: bold\"> Layer (type)                    </span>┃<span style=\"font-weight: bold\"> Output Shape           </span>┃<span style=\"font-weight: bold\">       Param # </span>┃\n",
              "┡━━━━━━━━━━━━━━━━━━━━━━━━━━━━━━━━━╇━━━━━━━━━━━━━━━━━━━━━━━━╇━━━━━━━━━━━━━━━┩\n",
              "│ embedding_6 (<span style=\"color: #0087ff; text-decoration-color: #0087ff\">Embedding</span>)         │ (<span style=\"color: #00d7ff; text-decoration-color: #00d7ff\">None</span>, <span style=\"color: #00af00; text-decoration-color: #00af00\">8</span>, <span style=\"color: #00af00; text-decoration-color: #00af00\">10</span>)          │         <span style=\"color: #00af00; text-decoration-color: #00af00\">5,000</span> │\n",
              "└─────────────────────────────────┴────────────────────────┴───────────────┘\n",
              "</pre>\n"
            ]
          },
          "metadata": {}
        },
        {
          "output_type": "display_data",
          "data": {
            "text/plain": [
              "\u001b[1m Total params: \u001b[0m\u001b[38;5;34m5,000\u001b[0m (19.53 KB)\n"
            ],
            "text/html": [
              "<pre style=\"white-space:pre;overflow-x:auto;line-height:normal;font-family:Menlo,'DejaVu Sans Mono',consolas,'Courier New',monospace\"><span style=\"font-weight: bold\"> Total params: </span><span style=\"color: #00af00; text-decoration-color: #00af00\">5,000</span> (19.53 KB)\n",
              "</pre>\n"
            ]
          },
          "metadata": {}
        },
        {
          "output_type": "display_data",
          "data": {
            "text/plain": [
              "\u001b[1m Trainable params: \u001b[0m\u001b[38;5;34m5,000\u001b[0m (19.53 KB)\n"
            ],
            "text/html": [
              "<pre style=\"white-space:pre;overflow-x:auto;line-height:normal;font-family:Menlo,'DejaVu Sans Mono',consolas,'Courier New',monospace\"><span style=\"font-weight: bold\"> Trainable params: </span><span style=\"color: #00af00; text-decoration-color: #00af00\">5,000</span> (19.53 KB)\n",
              "</pre>\n"
            ]
          },
          "metadata": {}
        },
        {
          "output_type": "display_data",
          "data": {
            "text/plain": [
              "\u001b[1m Non-trainable params: \u001b[0m\u001b[38;5;34m0\u001b[0m (0.00 B)\n"
            ],
            "text/html": [
              "<pre style=\"white-space:pre;overflow-x:auto;line-height:normal;font-family:Menlo,'DejaVu Sans Mono',consolas,'Courier New',monospace\"><span style=\"font-weight: bold\"> Non-trainable params: </span><span style=\"color: #00af00; text-decoration-color: #00af00\">0</span> (0.00 B)\n",
              "</pre>\n"
            ]
          },
          "metadata": {}
        }
      ]
    },
    {
      "cell_type": "code",
      "source": [
        "##'the glass of milk',\n",
        "embedded_docs[0]"
      ],
      "metadata": {
        "colab": {
          "base_uri": "https://localhost:8080/"
        },
        "id": "fxjWIfKn5OqC",
        "outputId": "33618b9d-934d-476f-f334-d7fd547d587f"
      },
      "execution_count": 60,
      "outputs": [
        {
          "output_type": "execute_result",
          "data": {
            "text/plain": [
              "array([  0,   0,   0,   0, 107, 121, 454, 406], dtype=int32)"
            ]
          },
          "metadata": {},
          "execution_count": 60
        }
      ]
    },
    {
      "cell_type": "code",
      "source": [
        "model.predict(np.expand_dims(embedded_docs[0], axis=0))"
      ],
      "metadata": {
        "colab": {
          "base_uri": "https://localhost:8080/"
        },
        "id": "WtSFUS78HSyH",
        "outputId": "baa1c2eb-b3c2-4d8c-9541-94a8d483b35d"
      },
      "execution_count": 62,
      "outputs": [
        {
          "output_type": "stream",
          "name": "stdout",
          "text": [
            "\u001b[1m1/1\u001b[0m \u001b[32m━━━━━━━━━━━━━━━━━━━━\u001b[0m\u001b[37m\u001b[0m \u001b[1m0s\u001b[0m 55ms/step\n"
          ]
        },
        {
          "output_type": "execute_result",
          "data": {
            "text/plain": [
              "array([[[-0.02436569, -0.00830988, -0.03174757, -0.03310137,\n",
              "         -0.04263657, -0.03117504, -0.01567652, -0.01551683,\n",
              "          0.0294816 , -0.04905849],\n",
              "        [-0.02436569, -0.00830988, -0.03174757, -0.03310137,\n",
              "         -0.04263657, -0.03117504, -0.01567652, -0.01551683,\n",
              "          0.0294816 , -0.04905849],\n",
              "        [-0.02436569, -0.00830988, -0.03174757, -0.03310137,\n",
              "         -0.04263657, -0.03117504, -0.01567652, -0.01551683,\n",
              "          0.0294816 , -0.04905849],\n",
              "        [-0.02436569, -0.00830988, -0.03174757, -0.03310137,\n",
              "         -0.04263657, -0.03117504, -0.01567652, -0.01551683,\n",
              "          0.0294816 , -0.04905849],\n",
              "        [-0.01232406, -0.04827582, -0.02143249,  0.04350771,\n",
              "         -0.00048665, -0.04587773,  0.00368009, -0.01593035,\n",
              "         -0.02196168,  0.00068749],\n",
              "        [-0.00516843, -0.02322774, -0.0447909 ,  0.00600774,\n",
              "          0.02775047, -0.0013914 ,  0.03993021,  0.04831767,\n",
              "         -0.04160901,  0.02656429],\n",
              "        [-0.02714366,  0.03188625,  0.01647497, -0.01183044,\n",
              "          0.01173041,  0.02554491,  0.04880222,  0.03909484,\n",
              "         -0.03959774,  0.01481033],\n",
              "        [ 0.04931173,  0.04914891, -0.00220631, -0.04625076,\n",
              "          0.03353614,  0.0122654 , -0.01165918, -0.00668035,\n",
              "         -0.04381998, -0.03784465]]], dtype=float32)"
            ]
          },
          "metadata": {},
          "execution_count": 62
        }
      ]
    },
    {
      "cell_type": "code",
      "source": [
        "print(model.predict(embedded_docs))"
      ],
      "metadata": {
        "colab": {
          "base_uri": "https://localhost:8080/"
        },
        "id": "Oa4worql5OnF",
        "outputId": "866f51e7-3964-4171-a764-c1a7e652ba39"
      },
      "execution_count": 63,
      "outputs": [
        {
          "output_type": "stream",
          "name": "stdout",
          "text": [
            "\u001b[1m1/1\u001b[0m \u001b[32m━━━━━━━━━━━━━━━━━━━━\u001b[0m\u001b[37m\u001b[0m \u001b[1m0s\u001b[0m 57ms/step\n",
            "[[[-0.02436569 -0.00830988 -0.03174757 -0.03310137 -0.04263657\n",
            "   -0.03117504 -0.01567652 -0.01551683  0.0294816  -0.04905849]\n",
            "  [-0.02436569 -0.00830988 -0.03174757 -0.03310137 -0.04263657\n",
            "   -0.03117504 -0.01567652 -0.01551683  0.0294816  -0.04905849]\n",
            "  [-0.02436569 -0.00830988 -0.03174757 -0.03310137 -0.04263657\n",
            "   -0.03117504 -0.01567652 -0.01551683  0.0294816  -0.04905849]\n",
            "  [-0.02436569 -0.00830988 -0.03174757 -0.03310137 -0.04263657\n",
            "   -0.03117504 -0.01567652 -0.01551683  0.0294816  -0.04905849]\n",
            "  [-0.01232406 -0.04827582 -0.02143249  0.04350771 -0.00048665\n",
            "   -0.04587773  0.00368009 -0.01593035 -0.02196168  0.00068749]\n",
            "  [-0.00516843 -0.02322774 -0.0447909   0.00600774  0.02775047\n",
            "   -0.0013914   0.03993021  0.04831767 -0.04160901  0.02656429]\n",
            "  [-0.02714366  0.03188625  0.01647497 -0.01183044  0.01173041\n",
            "    0.02554491  0.04880222  0.03909484 -0.03959774  0.01481033]\n",
            "  [ 0.04931173  0.04914891 -0.00220631 -0.04625076  0.03353614\n",
            "    0.0122654  -0.01165918 -0.00668035 -0.04381998 -0.03784465]]\n",
            "\n",
            " [[-0.02436569 -0.00830988 -0.03174757 -0.03310137 -0.04263657\n",
            "   -0.03117504 -0.01567652 -0.01551683  0.0294816  -0.04905849]\n",
            "  [-0.02436569 -0.00830988 -0.03174757 -0.03310137 -0.04263657\n",
            "   -0.03117504 -0.01567652 -0.01551683  0.0294816  -0.04905849]\n",
            "  [-0.02436569 -0.00830988 -0.03174757 -0.03310137 -0.04263657\n",
            "   -0.03117504 -0.01567652 -0.01551683  0.0294816  -0.04905849]\n",
            "  [-0.02436569 -0.00830988 -0.03174757 -0.03310137 -0.04263657\n",
            "   -0.03117504 -0.01567652 -0.01551683  0.0294816  -0.04905849]\n",
            "  [-0.01232406 -0.04827582 -0.02143249  0.04350771 -0.00048665\n",
            "   -0.04587773  0.00368009 -0.01593035 -0.02196168  0.00068749]\n",
            "  [-0.00516843 -0.02322774 -0.0447909   0.00600774  0.02775047\n",
            "   -0.0013914   0.03993021  0.04831767 -0.04160901  0.02656429]\n",
            "  [-0.02714366  0.03188625  0.01647497 -0.01183044  0.01173041\n",
            "    0.02554491  0.04880222  0.03909484 -0.03959774  0.01481033]\n",
            "  [ 0.03406508 -0.00018343  0.03051478 -0.02215176  0.03429392\n",
            "   -0.00131915 -0.00452238 -0.04221927 -0.04554313 -0.0394876 ]]\n",
            "\n",
            " [[-0.02436569 -0.00830988 -0.03174757 -0.03310137 -0.04263657\n",
            "   -0.03117504 -0.01567652 -0.01551683  0.0294816  -0.04905849]\n",
            "  [-0.02436569 -0.00830988 -0.03174757 -0.03310137 -0.04263657\n",
            "   -0.03117504 -0.01567652 -0.01551683  0.0294816  -0.04905849]\n",
            "  [-0.02436569 -0.00830988 -0.03174757 -0.03310137 -0.04263657\n",
            "   -0.03117504 -0.01567652 -0.01551683  0.0294816  -0.04905849]\n",
            "  [-0.02436569 -0.00830988 -0.03174757 -0.03310137 -0.04263657\n",
            "   -0.03117504 -0.01567652 -0.01551683  0.0294816  -0.04905849]\n",
            "  [-0.01232406 -0.04827582 -0.02143249  0.04350771 -0.00048665\n",
            "   -0.04587773  0.00368009 -0.01593035 -0.02196168  0.00068749]\n",
            "  [-0.02579804  0.0191902  -0.01790795  0.02028498 -0.00645616\n",
            "    0.01025997 -0.03220761  0.03631986  0.04236532 -0.0396321 ]\n",
            "  [-0.02714366  0.03188625  0.01647497 -0.01183044  0.01173041\n",
            "    0.02554491  0.04880222  0.03909484 -0.03959774  0.01481033]\n",
            "  [ 0.00345069  0.00319301  0.01342371  0.01447431 -0.03342431\n",
            "    0.0096059  -0.01808263 -0.00094413  0.03070479 -0.04707519]]\n",
            "\n",
            " [[-0.02436569 -0.00830988 -0.03174757 -0.03310137 -0.04263657\n",
            "   -0.03117504 -0.01567652 -0.01551683  0.0294816  -0.04905849]\n",
            "  [-0.02436569 -0.00830988 -0.03174757 -0.03310137 -0.04263657\n",
            "   -0.03117504 -0.01567652 -0.01551683  0.0294816  -0.04905849]\n",
            "  [-0.02436569 -0.00830988 -0.03174757 -0.03310137 -0.04263657\n",
            "   -0.03117504 -0.01567652 -0.01551683  0.0294816  -0.04905849]\n",
            "  [ 0.00730138  0.02085469  0.00219599  0.02273205 -0.0263152\n",
            "    0.02169553 -0.04662269  0.04948254  0.03172396 -0.04911458]\n",
            "  [ 0.01931539  0.03499652 -0.04525978 -0.04240136  0.03588671\n",
            "    0.04982759 -0.00541942 -0.04264252  0.00804888  0.03989035]\n",
            "  [ 0.02249971 -0.03653762  0.04125898 -0.02070566 -0.00348703\n",
            "   -0.0123192   0.01429493  0.00188501 -0.01925199  0.00235387]\n",
            "  [ 0.00912106  0.02122303 -0.02638981  0.00043278 -0.0363897\n",
            "    0.01453521  0.03360364 -0.01147372 -0.02118148  0.03266109]\n",
            "  [-0.02318662  0.01277066  0.02942279 -0.00749221 -0.02443897\n",
            "    0.01615251  0.03005569  0.00198412 -0.04201231  0.00734045]]\n",
            "\n",
            " [[-0.02436569 -0.00830988 -0.03174757 -0.03310137 -0.04263657\n",
            "   -0.03117504 -0.01567652 -0.01551683  0.0294816  -0.04905849]\n",
            "  [-0.02436569 -0.00830988 -0.03174757 -0.03310137 -0.04263657\n",
            "   -0.03117504 -0.01567652 -0.01551683  0.0294816  -0.04905849]\n",
            "  [-0.02436569 -0.00830988 -0.03174757 -0.03310137 -0.04263657\n",
            "   -0.03117504 -0.01567652 -0.01551683  0.0294816  -0.04905849]\n",
            "  [ 0.00730138  0.02085469  0.00219599  0.02273205 -0.0263152\n",
            "    0.02169553 -0.04662269  0.04948254  0.03172396 -0.04911458]\n",
            "  [ 0.01931539  0.03499652 -0.04525978 -0.04240136  0.03588671\n",
            "    0.04982759 -0.00541942 -0.04264252  0.00804888  0.03989035]\n",
            "  [ 0.02249971 -0.03653762  0.04125898 -0.02070566 -0.00348703\n",
            "   -0.0123192   0.01429493  0.00188501 -0.01925199  0.00235387]\n",
            "  [ 0.00912106  0.02122303 -0.02638981  0.00043278 -0.0363897\n",
            "    0.01453521  0.03360364 -0.01147372 -0.02118148  0.03266109]\n",
            "  [ 0.02196899 -0.02258246  0.04060558 -0.04814062 -0.04335919\n",
            "   -0.01565921 -0.02716205 -0.03146164  0.03510684 -0.027889  ]]\n",
            "\n",
            " [[-0.02436569 -0.00830988 -0.03174757 -0.03310137 -0.04263657\n",
            "   -0.03117504 -0.01567652 -0.01551683  0.0294816  -0.04905849]\n",
            "  [-0.02436569 -0.00830988 -0.03174757 -0.03310137 -0.04263657\n",
            "   -0.03117504 -0.01567652 -0.01551683  0.0294816  -0.04905849]\n",
            "  [-0.02436569 -0.00830988 -0.03174757 -0.03310137 -0.04263657\n",
            "   -0.03117504 -0.01567652 -0.01551683  0.0294816  -0.04905849]\n",
            "  [-0.04487881 -0.02761739 -0.00091781 -0.00500526 -0.04116961\n",
            "   -0.00674533 -0.02802547 -0.01218058 -0.00732198 -0.01954924]\n",
            "  [-0.01232406 -0.04827582 -0.02143249  0.04350771 -0.00048665\n",
            "   -0.04587773  0.00368009 -0.01593035 -0.02196168  0.00068749]\n",
            "  [-0.00689908  0.00599048 -0.048812    0.0011375  -0.02736396\n",
            "    0.02652385 -0.04440529  0.01676419 -0.00240091 -0.01581492]\n",
            "  [-0.02714366  0.03188625  0.01647497 -0.01183044  0.01173041\n",
            "    0.02554491  0.04880222  0.03909484 -0.03959774  0.01481033]\n",
            "  [-0.01355203  0.01140453 -0.03394109 -0.04033482  0.04570199\n",
            "   -0.0227744   0.01942739  0.0251133  -0.02442243  0.04501834]]\n",
            "\n",
            " [[-0.02436569 -0.00830988 -0.03174757 -0.03310137 -0.04263657\n",
            "   -0.03117504 -0.01567652 -0.01551683  0.0294816  -0.04905849]\n",
            "  [-0.02436569 -0.00830988 -0.03174757 -0.03310137 -0.04263657\n",
            "   -0.03117504 -0.01567652 -0.01551683  0.0294816  -0.04905849]\n",
            "  [-0.02436569 -0.00830988 -0.03174757 -0.03310137 -0.04263657\n",
            "   -0.03117504 -0.01567652 -0.01551683  0.0294816  -0.04905849]\n",
            "  [-0.02436569 -0.00830988 -0.03174757 -0.03310137 -0.04263657\n",
            "   -0.03117504 -0.01567652 -0.01551683  0.0294816  -0.04905849]\n",
            "  [-0.02814795 -0.01907096 -0.00754277 -0.03243297  0.0189636\n",
            "   -0.03446219 -0.00093179  0.03692821  0.0313061   0.04630119]\n",
            "  [-0.00021706 -0.03549905 -0.02891744 -0.0475227   0.03773754\n",
            "   -0.04352009  0.01994627 -0.03513875  0.03422221  0.02940958]\n",
            "  [-0.01534916 -0.04658244  0.02856178 -0.00968367 -0.0045058\n",
            "    0.0314433   0.03850346 -0.03694626 -0.03774885  0.00377457]\n",
            "  [ 0.00912106  0.02122303 -0.02638981  0.00043278 -0.0363897\n",
            "    0.01453521  0.03360364 -0.01147372 -0.02118148  0.03266109]]]\n"
          ]
        }
      ]
    },
    {
      "cell_type": "code",
      "source": [],
      "metadata": {
        "id": "gqndfUf95Oh7"
      },
      "execution_count": null,
      "outputs": []
    }
  ]
}